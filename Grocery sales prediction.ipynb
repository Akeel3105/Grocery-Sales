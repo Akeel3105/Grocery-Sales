{
 "cells": [
  {
   "cell_type": "code",
   "execution_count": null,
   "metadata": {},
   "outputs": [],
   "source": [
    "# Project name"
   ]
  },
  {
   "cell_type": "code",
   "execution_count": 1,
   "metadata": {},
   "outputs": [
    {
     "name": "stdout",
     "output_type": "stream",
     "text": [
      "Project name: Predicting grocery sales\n"
     ]
    }
   ],
   "source": [
    "print(\"Project name: Predicting grocery sales\")"
   ]
  },
  {
   "cell_type": "code",
   "execution_count": null,
   "metadata": {},
   "outputs": [],
   "source": [
    "# A brief about problem statement"
   ]
  },
  {
   "cell_type": "code",
   "execution_count": null,
   "metadata": {},
   "outputs": [],
   "source": [
    "'''\n",
    "Given the daily sales of a grocery shop recorded over a period of almost 2 years, your objective as a data scientist is to build\n",
    "a machine learning model that can forecast the sales for the upcoming 3 months.\n",
    "\n",
    "You are provided with the recorded observation of daily sales of a grocery shop over a period of 692 days to forecast the sales\n",
    "of the next 90 days.\n",
    "\n",
    "The leaderboard is evaluated using RMSE Score for the participant’s submission.\n",
    "'''"
   ]
  },
  {
   "cell_type": "code",
   "execution_count": null,
   "metadata": {},
   "outputs": [],
   "source": [
    "# Importing required libraries"
   ]
  },
  {
   "cell_type": "code",
   "execution_count": 1,
   "metadata": {},
   "outputs": [],
   "source": [
    "import pandas as pd\n",
    "import numpy as np\n",
    "import matplotlib.pyplot as plt\n",
    "%matplotlib inline\n",
    "import seaborn as sns\n",
    "sns.set_style('whitegrid')\n",
    "import statsmodels.api as sm"
   ]
  },
  {
   "cell_type": "code",
   "execution_count": null,
   "metadata": {},
   "outputs": [],
   "source": [
    "# Loading dataset"
   ]
  },
  {
   "cell_type": "code",
   "execution_count": 2,
   "metadata": {},
   "outputs": [],
   "source": [
    "train=pd.read_csv(\"Train.csv\")\n",
    "test=pd.read_csv(\"Test.csv\")"
   ]
  },
  {
   "cell_type": "code",
   "execution_count": null,
   "metadata": {},
   "outputs": [],
   "source": [
    "# shaepe of dataset"
   ]
  },
  {
   "cell_type": "code",
   "execution_count": 4,
   "metadata": {},
   "outputs": [
    {
     "name": "stdout",
     "output_type": "stream",
     "text": [
      "shape of training dataset: (692, 2)\n",
      "shape of testing dataset: (90, 1)\n"
     ]
    }
   ],
   "source": [
    "print(\"shape of training dataset:\",train.shape)\n",
    "print(\"shape of testing dataset:\",test.shape)"
   ]
  },
  {
   "cell_type": "code",
   "execution_count": null,
   "metadata": {},
   "outputs": [],
   "source": [
    "# A look at the training dataset"
   ]
  },
  {
   "cell_type": "code",
   "execution_count": 6,
   "metadata": {},
   "outputs": [
    {
     "data": {
      "text/html": [
       "<div>\n",
       "<style scoped>\n",
       "    .dataframe tbody tr th:only-of-type {\n",
       "        vertical-align: middle;\n",
       "    }\n",
       "\n",
       "    .dataframe tbody tr th {\n",
       "        vertical-align: top;\n",
       "    }\n",
       "\n",
       "    .dataframe thead th {\n",
       "        text-align: right;\n",
       "    }\n",
       "</style>\n",
       "<table border=\"1\" class=\"dataframe\">\n",
       "  <thead>\n",
       "    <tr style=\"text-align: right;\">\n",
       "      <th></th>\n",
       "      <th>Day</th>\n",
       "      <th>GrocerySales</th>\n",
       "    </tr>\n",
       "  </thead>\n",
       "  <tbody>\n",
       "    <tr>\n",
       "      <th>0</th>\n",
       "      <td>1</td>\n",
       "      <td>8418.59</td>\n",
       "    </tr>\n",
       "    <tr>\n",
       "      <th>1</th>\n",
       "      <td>2</td>\n",
       "      <td>8447.47</td>\n",
       "    </tr>\n",
       "    <tr>\n",
       "      <th>2</th>\n",
       "      <td>3</td>\n",
       "      <td>8336.49</td>\n",
       "    </tr>\n",
       "    <tr>\n",
       "      <th>3</th>\n",
       "      <td>4</td>\n",
       "      <td>8579.17</td>\n",
       "    </tr>\n",
       "    <tr>\n",
       "      <th>4</th>\n",
       "      <td>5</td>\n",
       "      <td>8524.31</td>\n",
       "    </tr>\n",
       "  </tbody>\n",
       "</table>\n",
       "</div>"
      ],
      "text/plain": [
       "   Day  GrocerySales\n",
       "0    1       8418.59\n",
       "1    2       8447.47\n",
       "2    3       8336.49\n",
       "3    4       8579.17\n",
       "4    5       8524.31"
      ]
     },
     "execution_count": 6,
     "metadata": {},
     "output_type": "execute_result"
    }
   ],
   "source": [
    "train.head(5)"
   ]
  },
  {
   "cell_type": "code",
   "execution_count": null,
   "metadata": {},
   "outputs": [],
   "source": [
    "# A few rows from last"
   ]
  },
  {
   "cell_type": "code",
   "execution_count": 7,
   "metadata": {},
   "outputs": [
    {
     "data": {
      "text/html": [
       "<div>\n",
       "<style scoped>\n",
       "    .dataframe tbody tr th:only-of-type {\n",
       "        vertical-align: middle;\n",
       "    }\n",
       "\n",
       "    .dataframe tbody tr th {\n",
       "        vertical-align: top;\n",
       "    }\n",
       "\n",
       "    .dataframe thead th {\n",
       "        text-align: right;\n",
       "    }\n",
       "</style>\n",
       "<table border=\"1\" class=\"dataframe\">\n",
       "  <thead>\n",
       "    <tr style=\"text-align: right;\">\n",
       "      <th></th>\n",
       "      <th>Day</th>\n",
       "      <th>GrocerySales</th>\n",
       "    </tr>\n",
       "  </thead>\n",
       "  <tbody>\n",
       "    <tr>\n",
       "      <th>687</th>\n",
       "      <td>688</td>\n",
       "      <td>8848.98</td>\n",
       "    </tr>\n",
       "    <tr>\n",
       "      <th>688</th>\n",
       "      <td>689</td>\n",
       "      <td>8800.45</td>\n",
       "    </tr>\n",
       "    <tr>\n",
       "      <th>689</th>\n",
       "      <td>690</td>\n",
       "      <td>9197.99</td>\n",
       "    </tr>\n",
       "    <tr>\n",
       "      <th>690</th>\n",
       "      <td>691</td>\n",
       "      <td>9062.44</td>\n",
       "    </tr>\n",
       "    <tr>\n",
       "      <th>691</th>\n",
       "      <td>692</td>\n",
       "      <td>8963.12</td>\n",
       "    </tr>\n",
       "  </tbody>\n",
       "</table>\n",
       "</div>"
      ],
      "text/plain": [
       "     Day  GrocerySales\n",
       "687  688       8848.98\n",
       "688  689       8800.45\n",
       "689  690       9197.99\n",
       "690  691       9062.44\n",
       "691  692       8963.12"
      ]
     },
     "execution_count": 7,
     "metadata": {},
     "output_type": "execute_result"
    }
   ],
   "source": [
    "train.tail(5)"
   ]
  },
  {
   "cell_type": "code",
   "execution_count": null,
   "metadata": {},
   "outputs": [],
   "source": [
    "# Lets check test dataset"
   ]
  },
  {
   "cell_type": "code",
   "execution_count": 8,
   "metadata": {},
   "outputs": [
    {
     "data": {
      "text/html": [
       "<div>\n",
       "<style scoped>\n",
       "    .dataframe tbody tr th:only-of-type {\n",
       "        vertical-align: middle;\n",
       "    }\n",
       "\n",
       "    .dataframe tbody tr th {\n",
       "        vertical-align: top;\n",
       "    }\n",
       "\n",
       "    .dataframe thead th {\n",
       "        text-align: right;\n",
       "    }\n",
       "</style>\n",
       "<table border=\"1\" class=\"dataframe\">\n",
       "  <thead>\n",
       "    <tr style=\"text-align: right;\">\n",
       "      <th></th>\n",
       "      <th>Day</th>\n",
       "    </tr>\n",
       "  </thead>\n",
       "  <tbody>\n",
       "    <tr>\n",
       "      <th>0</th>\n",
       "      <td>693</td>\n",
       "    </tr>\n",
       "    <tr>\n",
       "      <th>1</th>\n",
       "      <td>694</td>\n",
       "    </tr>\n",
       "    <tr>\n",
       "      <th>2</th>\n",
       "      <td>695</td>\n",
       "    </tr>\n",
       "    <tr>\n",
       "      <th>3</th>\n",
       "      <td>696</td>\n",
       "    </tr>\n",
       "    <tr>\n",
       "      <th>4</th>\n",
       "      <td>697</td>\n",
       "    </tr>\n",
       "  </tbody>\n",
       "</table>\n",
       "</div>"
      ],
      "text/plain": [
       "   Day\n",
       "0  693\n",
       "1  694\n",
       "2  695\n",
       "3  696\n",
       "4  697"
      ]
     },
     "execution_count": 8,
     "metadata": {},
     "output_type": "execute_result"
    }
   ],
   "source": [
    "test.head(5)"
   ]
  },
  {
   "cell_type": "code",
   "execution_count": null,
   "metadata": {},
   "outputs": [],
   "source": [
    "# A few rows from bottom"
   ]
  },
  {
   "cell_type": "code",
   "execution_count": 9,
   "metadata": {},
   "outputs": [
    {
     "data": {
      "text/html": [
       "<div>\n",
       "<style scoped>\n",
       "    .dataframe tbody tr th:only-of-type {\n",
       "        vertical-align: middle;\n",
       "    }\n",
       "\n",
       "    .dataframe tbody tr th {\n",
       "        vertical-align: top;\n",
       "    }\n",
       "\n",
       "    .dataframe thead th {\n",
       "        text-align: right;\n",
       "    }\n",
       "</style>\n",
       "<table border=\"1\" class=\"dataframe\">\n",
       "  <thead>\n",
       "    <tr style=\"text-align: right;\">\n",
       "      <th></th>\n",
       "      <th>Day</th>\n",
       "    </tr>\n",
       "  </thead>\n",
       "  <tbody>\n",
       "    <tr>\n",
       "      <th>85</th>\n",
       "      <td>778</td>\n",
       "    </tr>\n",
       "    <tr>\n",
       "      <th>86</th>\n",
       "      <td>779</td>\n",
       "    </tr>\n",
       "    <tr>\n",
       "      <th>87</th>\n",
       "      <td>780</td>\n",
       "    </tr>\n",
       "    <tr>\n",
       "      <th>88</th>\n",
       "      <td>781</td>\n",
       "    </tr>\n",
       "    <tr>\n",
       "      <th>89</th>\n",
       "      <td>782</td>\n",
       "    </tr>\n",
       "  </tbody>\n",
       "</table>\n",
       "</div>"
      ],
      "text/plain": [
       "    Day\n",
       "85  778\n",
       "86  779\n",
       "87  780\n",
       "88  781\n",
       "89  782"
      ]
     },
     "execution_count": 9,
     "metadata": {},
     "output_type": "execute_result"
    }
   ],
   "source": [
    "test.tail(5)"
   ]
  },
  {
   "cell_type": "code",
   "execution_count": null,
   "metadata": {},
   "outputs": [],
   "source": [
    "# A brief summary of dataset"
   ]
  },
  {
   "cell_type": "code",
   "execution_count": 10,
   "metadata": {},
   "outputs": [
    {
     "data": {
      "text/html": [
       "<div>\n",
       "<style scoped>\n",
       "    .dataframe tbody tr th:only-of-type {\n",
       "        vertical-align: middle;\n",
       "    }\n",
       "\n",
       "    .dataframe tbody tr th {\n",
       "        vertical-align: top;\n",
       "    }\n",
       "\n",
       "    .dataframe thead th {\n",
       "        text-align: right;\n",
       "    }\n",
       "</style>\n",
       "<table border=\"1\" class=\"dataframe\">\n",
       "  <thead>\n",
       "    <tr style=\"text-align: right;\">\n",
       "      <th></th>\n",
       "      <th>TotalMissing</th>\n",
       "      <th>%Missing</th>\n",
       "      <th>DataType</th>\n",
       "      <th>Unique</th>\n",
       "    </tr>\n",
       "  </thead>\n",
       "  <tbody>\n",
       "    <tr>\n",
       "      <th>Day</th>\n",
       "      <td>0</td>\n",
       "      <td>0.0</td>\n",
       "      <td>int64</td>\n",
       "      <td>692</td>\n",
       "    </tr>\n",
       "    <tr>\n",
       "      <th>GrocerySales</th>\n",
       "      <td>0</td>\n",
       "      <td>0.0</td>\n",
       "      <td>float64</td>\n",
       "      <td>690</td>\n",
       "    </tr>\n",
       "  </tbody>\n",
       "</table>\n",
       "</div>"
      ],
      "text/plain": [
       "              TotalMissing  %Missing DataType  Unique\n",
       "Day                      0       0.0    int64     692\n",
       "GrocerySales             0       0.0  float64     690"
      ]
     },
     "execution_count": 10,
     "metadata": {},
     "output_type": "execute_result"
    }
   ],
   "source": [
    "pd.DataFrame({\"TotalMissing\":train.isna().sum(),\"%Missing\":train.isna().mean(),\"DataType\":train.dtypes,\"Unique\":train.nunique()})"
   ]
  },
  {
   "cell_type": "code",
   "execution_count": 11,
   "metadata": {},
   "outputs": [
    {
     "data": {
      "text/html": [
       "<div>\n",
       "<style scoped>\n",
       "    .dataframe tbody tr th:only-of-type {\n",
       "        vertical-align: middle;\n",
       "    }\n",
       "\n",
       "    .dataframe tbody tr th {\n",
       "        vertical-align: top;\n",
       "    }\n",
       "\n",
       "    .dataframe thead th {\n",
       "        text-align: right;\n",
       "    }\n",
       "</style>\n",
       "<table border=\"1\" class=\"dataframe\">\n",
       "  <thead>\n",
       "    <tr style=\"text-align: right;\">\n",
       "      <th></th>\n",
       "      <th>TotalMissing</th>\n",
       "      <th>%Missing</th>\n",
       "      <th>DataType</th>\n",
       "      <th>Unique</th>\n",
       "    </tr>\n",
       "  </thead>\n",
       "  <tbody>\n",
       "    <tr>\n",
       "      <th>Day</th>\n",
       "      <td>0</td>\n",
       "      <td>0.0</td>\n",
       "      <td>int64</td>\n",
       "      <td>90</td>\n",
       "    </tr>\n",
       "  </tbody>\n",
       "</table>\n",
       "</div>"
      ],
      "text/plain": [
       "     TotalMissing  %Missing DataType  Unique\n",
       "Day             0       0.0    int64      90"
      ]
     },
     "execution_count": 11,
     "metadata": {},
     "output_type": "execute_result"
    }
   ],
   "source": [
    "pd.DataFrame({\"TotalMissing\":test.isna().sum(),\"%Missing\":test.isna().mean(),\"DataType\":test.dtypes,\"Unique\":test.nunique()})"
   ]
  },
  {
   "cell_type": "code",
   "execution_count": null,
   "metadata": {},
   "outputs": [],
   "source": [
    "# Basic stats value of training dataset"
   ]
  },
  {
   "cell_type": "code",
   "execution_count": 12,
   "metadata": {},
   "outputs": [
    {
     "data": {
      "text/html": [
       "<div>\n",
       "<style scoped>\n",
       "    .dataframe tbody tr th:only-of-type {\n",
       "        vertical-align: middle;\n",
       "    }\n",
       "\n",
       "    .dataframe tbody tr th {\n",
       "        vertical-align: top;\n",
       "    }\n",
       "\n",
       "    .dataframe thead th {\n",
       "        text-align: right;\n",
       "    }\n",
       "</style>\n",
       "<table border=\"1\" class=\"dataframe\">\n",
       "  <thead>\n",
       "    <tr style=\"text-align: right;\">\n",
       "      <th></th>\n",
       "      <th>Day</th>\n",
       "      <th>GrocerySales</th>\n",
       "    </tr>\n",
       "  </thead>\n",
       "  <tbody>\n",
       "    <tr>\n",
       "      <th>count</th>\n",
       "      <td>692.000000</td>\n",
       "      <td>692.000000</td>\n",
       "    </tr>\n",
       "    <tr>\n",
       "      <th>mean</th>\n",
       "      <td>346.500000</td>\n",
       "      <td>8564.733471</td>\n",
       "    </tr>\n",
       "    <tr>\n",
       "      <th>std</th>\n",
       "      <td>199.907479</td>\n",
       "      <td>428.815668</td>\n",
       "    </tr>\n",
       "    <tr>\n",
       "      <th>min</th>\n",
       "      <td>1.000000</td>\n",
       "      <td>6766.370000</td>\n",
       "    </tr>\n",
       "    <tr>\n",
       "      <th>25%</th>\n",
       "      <td>173.750000</td>\n",
       "      <td>8411.536858</td>\n",
       "    </tr>\n",
       "    <tr>\n",
       "      <th>50%</th>\n",
       "      <td>346.500000</td>\n",
       "      <td>8677.770000</td>\n",
       "    </tr>\n",
       "    <tr>\n",
       "      <th>75%</th>\n",
       "      <td>519.250000</td>\n",
       "      <td>8852.387500</td>\n",
       "    </tr>\n",
       "    <tr>\n",
       "      <th>max</th>\n",
       "      <td>692.000000</td>\n",
       "      <td>9290.020000</td>\n",
       "    </tr>\n",
       "  </tbody>\n",
       "</table>\n",
       "</div>"
      ],
      "text/plain": [
       "              Day  GrocerySales\n",
       "count  692.000000    692.000000\n",
       "mean   346.500000   8564.733471\n",
       "std    199.907479    428.815668\n",
       "min      1.000000   6766.370000\n",
       "25%    173.750000   8411.536858\n",
       "50%    346.500000   8677.770000\n",
       "75%    519.250000   8852.387500\n",
       "max    692.000000   9290.020000"
      ]
     },
     "execution_count": 12,
     "metadata": {},
     "output_type": "execute_result"
    }
   ],
   "source": [
    "train.describe()"
   ]
  },
  {
   "cell_type": "code",
   "execution_count": null,
   "metadata": {},
   "outputs": [],
   "source": [
    "# EDA"
   ]
  },
  {
   "cell_type": "code",
   "execution_count": 15,
   "metadata": {},
   "outputs": [
    {
     "data": {
      "image/png": "[encoded data removed]",
      "text/plain": [
       "<Figure size 1440x504 with 1 Axes>"
      ]
     },
     "metadata": {
      "needs_background": "light"
     },
     "output_type": "display_data"
    }
   ],
   "source": [
    "plt.figure(figsize=(20,7))\n",
    "sns.lineplot(x=train[\"Day\"],y=train[\"GrocerySales\"])\n",
    "plt.savefig(\"G-sales.png\")"
   ]
  },
  {
   "cell_type": "code",
   "execution_count": 11,
   "metadata": {},
   "outputs": [],
   "source": [
    "df.set_index('Date',inplace=True)"
   ]
  },
  {
   "cell_type": "code",
   "execution_count": 10,
   "metadata": {},
   "outputs": [],
   "source": [
    "df['Date']=pd.to_datetime(df['Date'])"
   ]
  },
  {
   "cell_type": "code",
   "execution_count": 12,
   "metadata": {},
   "outputs": [],
   "source": [
    "del df[\"Day\"]"
   ]
  },
  {
   "cell_type": "code",
   "execution_count": 78,
   "metadata": {},
   "outputs": [
    {
     "data": {
      "text/plain": [
       "<matplotlib.axes._subplots.AxesSubplot at 0x2ac76f56710>"
      ]
     },
     "execution_count": 78,
     "metadata": {},
     "output_type": "execute_result"
    },
    {
     "data": {
      "image/png": "[encoded data removed]",
      "text/plain": [
       "<Figure size 432x288 with 1 Axes>"
      ]
     },
     "metadata": {},
     "output_type": "display_data"
    }
   ],
   "source": [
    "df.plot()"
   ]
  },
  {
   "cell_type": "code",
   "execution_count": 90,
   "metadata": {},
   "outputs": [],
   "source": [
    "from statsmodels.tsa.arima_model import ARIMA"
   ]
  },
  {
   "cell_type": "code",
   "execution_count": 94,
   "metadata": {},
   "outputs": [
    {
     "name": "stderr",
     "output_type": "stream",
     "text": [
      "c:\\users\\acer\\appdata\\local\\programs\\python\\python36\\lib\\site-packages\\statsmodels\\tsa\\base\\tsa_model.py:165: ValueWarning: No frequency information was provided, so inferred frequency D will be used.\n",
      "  % freq, ValueWarning)\n",
      "c:\\users\\acer\\appdata\\local\\programs\\python\\python36\\lib\\site-packages\\statsmodels\\tsa\\base\\tsa_model.py:165: ValueWarning: No frequency information was provided, so inferred frequency D will be used.\n",
      "  % freq, ValueWarning)\n"
     ]
    }
   ],
   "source": [
    "model=ARIMA(df['GrocerySales'],order=(4,1,1))\n",
    "model_fit=model.fit()"
   ]
  },
  {
   "cell_type": "code",
   "execution_count": 96,
   "metadata": {},
   "outputs": [
    {
     "data": {
      "text/plain": [
       "<matplotlib.axes._subplots.AxesSubplot at 0x2ac007b46d8>"
      ]
     },
     "execution_count": 96,
     "metadata": {},
     "output_type": "execute_result"
    },
    {
     "data": {
      "image/png": "[encoded data removed]",
      "text/plain": [
       "<Figure size 864x576 with 1 Axes>"
      ]
     },
     "metadata": {},
     "output_type": "display_data"
    }
   ],
   "source": [
    "df['forecast']=model_fit.predict(start=590,end=690,dynamic=True)\n",
    "df[['GrocerySales','forecast']].plot(figsize=(12,8))"
   ]
  },
  {
   "cell_type": "code",
   "execution_count": null,
   "metadata": {},
   "outputs": [],
   "source": [
    "# Creating a list of to take all date"
   ]
  },
  {
   "cell_type": "code",
   "execution_count": 3,
   "metadata": {},
   "outputs": [],
   "source": [
    "list1=pd.date_range(start=\"2015-01-01\",periods=692).tolist()"
   ]
  },
  {
   "cell_type": "code",
   "execution_count": null,
   "metadata": {},
   "outputs": [],
   "source": [
    "# converting list to dataframe"
   ]
  },
  {
   "cell_type": "code",
   "execution_count": 4,
   "metadata": {},
   "outputs": [],
   "source": [
    "df1=pd.DataFrame(list1)"
   ]
  },
  {
   "cell_type": "code",
   "execution_count": null,
   "metadata": {},
   "outputs": [],
   "source": [
    "# Concating with test dataset"
   ]
  },
  {
   "cell_type": "code",
   "execution_count": 5,
   "metadata": {},
   "outputs": [],
   "source": [
    "df=pd.concat([train,df1],axis=1)"
   ]
  },
  {
   "cell_type": "code",
   "execution_count": null,
   "metadata": {},
   "outputs": [],
   "source": [
    "# Renaming columns"
   ]
  },
  {
   "cell_type": "code",
   "execution_count": 6,
   "metadata": {},
   "outputs": [],
   "source": [
    "df.rename(columns={0:\"Date\"},inplace=True)"
   ]
  },
  {
   "cell_type": "code",
   "execution_count": null,
   "metadata": {},
   "outputs": [],
   "source": [
    "# Lets check the dataset"
   ]
  },
  {
   "cell_type": "code",
   "execution_count": 7,
   "metadata": {},
   "outputs": [
    {
     "data": {
      "text/html": [
       "<div>\n",
       "<style scoped>\n",
       "    .dataframe tbody tr th:only-of-type {\n",
       "        vertical-align: middle;\n",
       "    }\n",
       "\n",
       "    .dataframe tbody tr th {\n",
       "        vertical-align: top;\n",
       "    }\n",
       "\n",
       "    .dataframe thead th {\n",
       "        text-align: right;\n",
       "    }\n",
       "</style>\n",
       "<table border=\"1\" class=\"dataframe\">\n",
       "  <thead>\n",
       "    <tr style=\"text-align: right;\">\n",
       "      <th></th>\n",
       "      <th>Day</th>\n",
       "      <th>GrocerySales</th>\n",
       "      <th>Date</th>\n",
       "    </tr>\n",
       "  </thead>\n",
       "  <tbody>\n",
       "    <tr>\n",
       "      <th>0</th>\n",
       "      <td>1</td>\n",
       "      <td>8418.59</td>\n",
       "      <td>2015-01-01</td>\n",
       "    </tr>\n",
       "    <tr>\n",
       "      <th>1</th>\n",
       "      <td>2</td>\n",
       "      <td>8447.47</td>\n",
       "      <td>2015-01-02</td>\n",
       "    </tr>\n",
       "    <tr>\n",
       "      <th>2</th>\n",
       "      <td>3</td>\n",
       "      <td>8336.49</td>\n",
       "      <td>2015-01-03</td>\n",
       "    </tr>\n",
       "    <tr>\n",
       "      <th>3</th>\n",
       "      <td>4</td>\n",
       "      <td>8579.17</td>\n",
       "      <td>2015-01-04</td>\n",
       "    </tr>\n",
       "  </tbody>\n",
       "</table>\n",
       "</div>"
      ],
      "text/plain": [
       "   Day  GrocerySales       Date\n",
       "0    1       8418.59 2015-01-01\n",
       "1    2       8447.47 2015-01-02\n",
       "2    3       8336.49 2015-01-03\n",
       "3    4       8579.17 2015-01-04"
      ]
     },
     "execution_count": 7,
     "metadata": {},
     "output_type": "execute_result"
    }
   ],
   "source": [
    "df.head(4)"
   ]
  },
  {
   "cell_type": "code",
   "execution_count": 8,
   "metadata": {},
   "outputs": [],
   "source": [
    "# Let's create some additional datetime based features\n",
    "df['year'] = df.Date.dt.year\n",
    "df['month'] = df.Date.dt.month\n",
    "df['dayofweek'] = df.Date.dt.dayofweek\n",
    "df['day'] = df.Date.dt.day\n",
    "df['quarter'] = df.Date.dt.quarter\n",
    "df['is_month_start'] = df.Date.dt.is_month_start\n",
    "df['is_month_end'] = df.Date.dt.is_month_end\n",
    "df['is_quarter_start'] = df.Date.dt.is_quarter_start\n",
    "df['is_quarter_end'] = df.Date.dt.is_quarter_end"
   ]
  },
  {
   "cell_type": "code",
   "execution_count": null,
   "metadata": {},
   "outputs": [],
   "source": [
    "# Lets check the dataset"
   ]
  },
  {
   "cell_type": "code",
   "execution_count": 9,
   "metadata": {},
   "outputs": [
    {
     "data": {
      "text/html": [
       "<div>\n",
       "<style scoped>\n",
       "    .dataframe tbody tr th:only-of-type {\n",
       "        vertical-align: middle;\n",
       "    }\n",
       "\n",
       "    .dataframe tbody tr th {\n",
       "        vertical-align: top;\n",
       "    }\n",
       "\n",
       "    .dataframe thead th {\n",
       "        text-align: right;\n",
       "    }\n",
       "</style>\n",
       "<table border=\"1\" class=\"dataframe\">\n",
       "  <thead>\n",
       "    <tr style=\"text-align: right;\">\n",
       "      <th></th>\n",
       "      <th>Day</th>\n",
       "      <th>GrocerySales</th>\n",
       "      <th>Date</th>\n",
       "      <th>year</th>\n",
       "      <th>month</th>\n",
       "      <th>dayofweek</th>\n",
       "      <th>day</th>\n",
       "      <th>quarter</th>\n",
       "      <th>is_month_start</th>\n",
       "      <th>is_month_end</th>\n",
       "      <th>is_quarter_start</th>\n",
       "      <th>is_quarter_end</th>\n",
       "    </tr>\n",
       "  </thead>\n",
       "  <tbody>\n",
       "    <tr>\n",
       "      <th>687</th>\n",
       "      <td>688</td>\n",
       "      <td>8848.98</td>\n",
       "      <td>2016-11-18</td>\n",
       "      <td>2016</td>\n",
       "      <td>11</td>\n",
       "      <td>4</td>\n",
       "      <td>18</td>\n",
       "      <td>4</td>\n",
       "      <td>False</td>\n",
       "      <td>False</td>\n",
       "      <td>False</td>\n",
       "      <td>False</td>\n",
       "    </tr>\n",
       "    <tr>\n",
       "      <th>688</th>\n",
       "      <td>689</td>\n",
       "      <td>8800.45</td>\n",
       "      <td>2016-11-19</td>\n",
       "      <td>2016</td>\n",
       "      <td>11</td>\n",
       "      <td>5</td>\n",
       "      <td>19</td>\n",
       "      <td>4</td>\n",
       "      <td>False</td>\n",
       "      <td>False</td>\n",
       "      <td>False</td>\n",
       "      <td>False</td>\n",
       "    </tr>\n",
       "    <tr>\n",
       "      <th>689</th>\n",
       "      <td>690</td>\n",
       "      <td>9197.99</td>\n",
       "      <td>2016-11-20</td>\n",
       "      <td>2016</td>\n",
       "      <td>11</td>\n",
       "      <td>6</td>\n",
       "      <td>20</td>\n",
       "      <td>4</td>\n",
       "      <td>False</td>\n",
       "      <td>False</td>\n",
       "      <td>False</td>\n",
       "      <td>False</td>\n",
       "    </tr>\n",
       "    <tr>\n",
       "      <th>690</th>\n",
       "      <td>691</td>\n",
       "      <td>9062.44</td>\n",
       "      <td>2016-11-21</td>\n",
       "      <td>2016</td>\n",
       "      <td>11</td>\n",
       "      <td>0</td>\n",
       "      <td>21</td>\n",
       "      <td>4</td>\n",
       "      <td>False</td>\n",
       "      <td>False</td>\n",
       "      <td>False</td>\n",
       "      <td>False</td>\n",
       "    </tr>\n",
       "    <tr>\n",
       "      <th>691</th>\n",
       "      <td>692</td>\n",
       "      <td>8963.12</td>\n",
       "      <td>2016-11-22</td>\n",
       "      <td>2016</td>\n",
       "      <td>11</td>\n",
       "      <td>1</td>\n",
       "      <td>22</td>\n",
       "      <td>4</td>\n",
       "      <td>False</td>\n",
       "      <td>False</td>\n",
       "      <td>False</td>\n",
       "      <td>False</td>\n",
       "    </tr>\n",
       "  </tbody>\n",
       "</table>\n",
       "</div>"
      ],
      "text/plain": [
       "     Day  GrocerySales       Date  year  month  dayofweek  day  quarter  \\\n",
       "687  688       8848.98 2016-11-18  2016     11          4   18        4   \n",
       "688  689       8800.45 2016-11-19  2016     11          5   19        4   \n",
       "689  690       9197.99 2016-11-20  2016     11          6   20        4   \n",
       "690  691       9062.44 2016-11-21  2016     11          0   21        4   \n",
       "691  692       8963.12 2016-11-22  2016     11          1   22        4   \n",
       "\n",
       "     is_month_start  is_month_end  is_quarter_start  is_quarter_end  \n",
       "687           False         False             False           False  \n",
       "688           False         False             False           False  \n",
       "689           False         False             False           False  \n",
       "690           False         False             False           False  \n",
       "691           False         False             False           False  "
      ]
     },
     "execution_count": 9,
     "metadata": {},
     "output_type": "execute_result"
    }
   ],
   "source": [
    "df.tail(5)"
   ]
  },
  {
   "cell_type": "code",
   "execution_count": null,
   "metadata": {},
   "outputs": [],
   "source": [
    "# test dataset"
   ]
  },
  {
   "cell_type": "code",
   "execution_count": null,
   "metadata": {},
   "outputs": [],
   "source": [
    "# Creating a list of to take all date"
   ]
  },
  {
   "cell_type": "code",
   "execution_count": 10,
   "metadata": {},
   "outputs": [],
   "source": [
    "list1=pd.date_range(start=\"2016-11-22\",periods=90).tolist()"
   ]
  },
  {
   "cell_type": "code",
   "execution_count": null,
   "metadata": {},
   "outputs": [],
   "source": [
    "# converting list to dataframe"
   ]
  },
  {
   "cell_type": "code",
   "execution_count": 11,
   "metadata": {},
   "outputs": [],
   "source": [
    "df2=pd.DataFrame(list1)"
   ]
  },
  {
   "cell_type": "code",
   "execution_count": null,
   "metadata": {},
   "outputs": [],
   "source": [
    "# Concating with test dataset"
   ]
  },
  {
   "cell_type": "code",
   "execution_count": 12,
   "metadata": {},
   "outputs": [],
   "source": [
    "test=pd.concat([test,df2],axis=1)"
   ]
  },
  {
   "cell_type": "code",
   "execution_count": null,
   "metadata": {},
   "outputs": [],
   "source": [
    "# Renaming columns"
   ]
  },
  {
   "cell_type": "code",
   "execution_count": 13,
   "metadata": {},
   "outputs": [],
   "source": [
    "test.rename(columns={0:\"Date\"},inplace=True)"
   ]
  },
  {
   "cell_type": "code",
   "execution_count": null,
   "metadata": {},
   "outputs": [],
   "source": [
    "# Let's create some additional datetime based features"
   ]
  },
  {
   "cell_type": "code",
   "execution_count": 14,
   "metadata": {},
   "outputs": [],
   "source": [
    "test['year'] = test.Date.dt.year\n",
    "test['month'] = test.Date.dt.month\n",
    "test['dayofweek'] = test.Date.dt.dayofweek\n",
    "test['day'] = test.Date.dt.day\n",
    "test['quarter'] = test.Date.dt.quarter\n",
    "test['is_month_start'] = test.Date.dt.is_month_start\n",
    "test['is_month_end'] = test.Date.dt.is_month_end\n",
    "test['is_quarter_start'] = test.Date.dt.is_quarter_start\n",
    "test['is_quarter_end'] = test.Date.dt.is_quarter_end"
   ]
  },
  {
   "cell_type": "code",
   "execution_count": null,
   "metadata": {},
   "outputs": [],
   "source": [
    "# Lets see the processed test dataset"
   ]
  },
  {
   "cell_type": "code",
   "execution_count": 15,
   "metadata": {},
   "outputs": [
    {
     "data": {
      "text/html": [
       "<div>\n",
       "<style scoped>\n",
       "    .dataframe tbody tr th:only-of-type {\n",
       "        vertical-align: middle;\n",
       "    }\n",
       "\n",
       "    .dataframe tbody tr th {\n",
       "        vertical-align: top;\n",
       "    }\n",
       "\n",
       "    .dataframe thead th {\n",
       "        text-align: right;\n",
       "    }\n",
       "</style>\n",
       "<table border=\"1\" class=\"dataframe\">\n",
       "  <thead>\n",
       "    <tr style=\"text-align: right;\">\n",
       "      <th></th>\n",
       "      <th>Day</th>\n",
       "      <th>Date</th>\n",
       "      <th>year</th>\n",
       "      <th>month</th>\n",
       "      <th>dayofweek</th>\n",
       "      <th>day</th>\n",
       "      <th>quarter</th>\n",
       "      <th>is_month_start</th>\n",
       "      <th>is_month_end</th>\n",
       "      <th>is_quarter_start</th>\n",
       "      <th>is_quarter_end</th>\n",
       "    </tr>\n",
       "  </thead>\n",
       "  <tbody>\n",
       "    <tr>\n",
       "      <th>0</th>\n",
       "      <td>693</td>\n",
       "      <td>2016-11-22</td>\n",
       "      <td>2016</td>\n",
       "      <td>11</td>\n",
       "      <td>1</td>\n",
       "      <td>22</td>\n",
       "      <td>4</td>\n",
       "      <td>False</td>\n",
       "      <td>False</td>\n",
       "      <td>False</td>\n",
       "      <td>False</td>\n",
       "    </tr>\n",
       "    <tr>\n",
       "      <th>1</th>\n",
       "      <td>694</td>\n",
       "      <td>2016-11-23</td>\n",
       "      <td>2016</td>\n",
       "      <td>11</td>\n",
       "      <td>2</td>\n",
       "      <td>23</td>\n",
       "      <td>4</td>\n",
       "      <td>False</td>\n",
       "      <td>False</td>\n",
       "      <td>False</td>\n",
       "      <td>False</td>\n",
       "    </tr>\n",
       "    <tr>\n",
       "      <th>2</th>\n",
       "      <td>695</td>\n",
       "      <td>2016-11-24</td>\n",
       "      <td>2016</td>\n",
       "      <td>11</td>\n",
       "      <td>3</td>\n",
       "      <td>24</td>\n",
       "      <td>4</td>\n",
       "      <td>False</td>\n",
       "      <td>False</td>\n",
       "      <td>False</td>\n",
       "      <td>False</td>\n",
       "    </tr>\n",
       "    <tr>\n",
       "      <th>3</th>\n",
       "      <td>696</td>\n",
       "      <td>2016-11-25</td>\n",
       "      <td>2016</td>\n",
       "      <td>11</td>\n",
       "      <td>4</td>\n",
       "      <td>25</td>\n",
       "      <td>4</td>\n",
       "      <td>False</td>\n",
       "      <td>False</td>\n",
       "      <td>False</td>\n",
       "      <td>False</td>\n",
       "    </tr>\n",
       "    <tr>\n",
       "      <th>4</th>\n",
       "      <td>697</td>\n",
       "      <td>2016-11-26</td>\n",
       "      <td>2016</td>\n",
       "      <td>11</td>\n",
       "      <td>5</td>\n",
       "      <td>26</td>\n",
       "      <td>4</td>\n",
       "      <td>False</td>\n",
       "      <td>False</td>\n",
       "      <td>False</td>\n",
       "      <td>False</td>\n",
       "    </tr>\n",
       "  </tbody>\n",
       "</table>\n",
       "</div>"
      ],
      "text/plain": [
       "   Day       Date  year  month  dayofweek  day  quarter  is_month_start  \\\n",
       "0  693 2016-11-22  2016     11          1   22        4           False   \n",
       "1  694 2016-11-23  2016     11          2   23        4           False   \n",
       "2  695 2016-11-24  2016     11          3   24        4           False   \n",
       "3  696 2016-11-25  2016     11          4   25        4           False   \n",
       "4  697 2016-11-26  2016     11          5   26        4           False   \n",
       "\n",
       "   is_month_end  is_quarter_start  is_quarter_end  \n",
       "0         False             False           False  \n",
       "1         False             False           False  \n",
       "2         False             False           False  \n",
       "3         False             False           False  \n",
       "4         False             False           False  "
      ]
     },
     "execution_count": 15,
     "metadata": {},
     "output_type": "execute_result"
    }
   ],
   "source": [
    "test.head(5)"
   ]
  },
  {
   "cell_type": "code",
   "execution_count": null,
   "metadata": {},
   "outputs": [],
   "source": [
    "# Data Visualization"
   ]
  },
  {
   "cell_type": "code",
   "execution_count": 47,
   "metadata": {},
   "outputs": [
    {
     "data": {
      "text/html": [
       "<div>\n",
       "<style scoped>\n",
       "    .dataframe tbody tr th:only-of-type {\n",
       "        vertical-align: middle;\n",
       "    }\n",
       "\n",
       "    .dataframe tbody tr th {\n",
       "        vertical-align: top;\n",
       "    }\n",
       "\n",
       "    .dataframe thead th {\n",
       "        text-align: right;\n",
       "    }\n",
       "</style>\n",
       "<table border=\"1\" class=\"dataframe\">\n",
       "  <thead>\n",
       "    <tr style=\"text-align: right;\">\n",
       "      <th></th>\n",
       "      <th>min</th>\n",
       "      <th>max</th>\n",
       "      <th>mean</th>\n",
       "      <th>median</th>\n",
       "      <th>std</th>\n",
       "    </tr>\n",
       "    <tr>\n",
       "      <th>month</th>\n",
       "      <th></th>\n",
       "      <th></th>\n",
       "      <th></th>\n",
       "      <th></th>\n",
       "      <th></th>\n",
       "    </tr>\n",
       "  </thead>\n",
       "  <tbody>\n",
       "    <tr>\n",
       "      <th>1</th>\n",
       "      <td>8313.530000</td>\n",
       "      <td>9156.73</td>\n",
       "      <td>8724.770645</td>\n",
       "      <td>8758.315000</td>\n",
       "      <td>236.903298</td>\n",
       "    </tr>\n",
       "    <tr>\n",
       "      <th>2</th>\n",
       "      <td>7365.830000</td>\n",
       "      <td>8850.22</td>\n",
       "      <td>8365.320490</td>\n",
       "      <td>8546.275000</td>\n",
       "      <td>435.204655</td>\n",
       "    </tr>\n",
       "    <tr>\n",
       "      <th>3</th>\n",
       "      <td>8033.410000</td>\n",
       "      <td>9143.65</td>\n",
       "      <td>8663.592581</td>\n",
       "      <td>8695.230000</td>\n",
       "      <td>246.386410</td>\n",
       "    </tr>\n",
       "    <tr>\n",
       "      <th>4</th>\n",
       "      <td>6766.370000</td>\n",
       "      <td>9166.56</td>\n",
       "      <td>8331.490667</td>\n",
       "      <td>8803.635000</td>\n",
       "      <td>750.950472</td>\n",
       "    </tr>\n",
       "    <tr>\n",
       "      <th>5</th>\n",
       "      <td>7652.930000</td>\n",
       "      <td>9081.48</td>\n",
       "      <td>8460.686521</td>\n",
       "      <td>8492.413717</td>\n",
       "      <td>288.993387</td>\n",
       "    </tr>\n",
       "    <tr>\n",
       "      <th>6</th>\n",
       "      <td>8220.670000</td>\n",
       "      <td>9198.97</td>\n",
       "      <td>8691.810158</td>\n",
       "      <td>8681.538717</td>\n",
       "      <td>245.178856</td>\n",
       "    </tr>\n",
       "    <tr>\n",
       "      <th>7</th>\n",
       "      <td>7401.900000</td>\n",
       "      <td>9127.92</td>\n",
       "      <td>8365.562055</td>\n",
       "      <td>8456.695000</td>\n",
       "      <td>551.295800</td>\n",
       "    </tr>\n",
       "    <tr>\n",
       "      <th>8</th>\n",
       "      <td>7895.520000</td>\n",
       "      <td>9143.67</td>\n",
       "      <td>8643.640033</td>\n",
       "      <td>8678.195000</td>\n",
       "      <td>339.146472</td>\n",
       "    </tr>\n",
       "    <tr>\n",
       "      <th>9</th>\n",
       "      <td>8395.267433</td>\n",
       "      <td>9290.02</td>\n",
       "      <td>8803.293102</td>\n",
       "      <td>8827.875000</td>\n",
       "      <td>214.608433</td>\n",
       "    </tr>\n",
       "    <tr>\n",
       "      <th>10</th>\n",
       "      <td>7271.800000</td>\n",
       "      <td>9019.22</td>\n",
       "      <td>8397.403949</td>\n",
       "      <td>8649.620000</td>\n",
       "      <td>507.524487</td>\n",
       "    </tr>\n",
       "    <tr>\n",
       "      <th>11</th>\n",
       "      <td>8103.980000</td>\n",
       "      <td>9197.99</td>\n",
       "      <td>8658.600943</td>\n",
       "      <td>8674.470000</td>\n",
       "      <td>274.490402</td>\n",
       "    </tr>\n",
       "    <tr>\n",
       "      <th>12</th>\n",
       "      <td>8444.970000</td>\n",
       "      <td>9019.19</td>\n",
       "      <td>8773.724839</td>\n",
       "      <td>8768.410000</td>\n",
       "      <td>136.727339</td>\n",
       "    </tr>\n",
       "  </tbody>\n",
       "</table>\n",
       "</div>"
      ],
      "text/plain": [
       "               min      max         mean       median         std\n",
       "month                                                            \n",
       "1      8313.530000  9156.73  8724.770645  8758.315000  236.903298\n",
       "2      7365.830000  8850.22  8365.320490  8546.275000  435.204655\n",
       "3      8033.410000  9143.65  8663.592581  8695.230000  246.386410\n",
       "4      6766.370000  9166.56  8331.490667  8803.635000  750.950472\n",
       "5      7652.930000  9081.48  8460.686521  8492.413717  288.993387\n",
       "6      8220.670000  9198.97  8691.810158  8681.538717  245.178856\n",
       "7      7401.900000  9127.92  8365.562055  8456.695000  551.295800\n",
       "8      7895.520000  9143.67  8643.640033  8678.195000  339.146472\n",
       "9      8395.267433  9290.02  8803.293102  8827.875000  214.608433\n",
       "10     7271.800000  9019.22  8397.403949  8649.620000  507.524487\n",
       "11     8103.980000  9197.99  8658.600943  8674.470000  274.490402\n",
       "12     8444.970000  9019.19  8773.724839  8768.410000  136.727339"
      ]
     },
     "execution_count": 47,
     "metadata": {},
     "output_type": "execute_result"
    }
   ],
   "source": [
    "df.groupby('month')['GrocerySales'].agg(['min','max','mean','median','std'])"
   ]
  },
  {
   "cell_type": "code",
   "execution_count": 49,
   "metadata": {},
   "outputs": [
    {
     "data": {
      "text/html": [
       "<div>\n",
       "<style scoped>\n",
       "    .dataframe tbody tr th:only-of-type {\n",
       "        vertical-align: middle;\n",
       "    }\n",
       "\n",
       "    .dataframe tbody tr th {\n",
       "        vertical-align: top;\n",
       "    }\n",
       "\n",
       "    .dataframe thead th {\n",
       "        text-align: right;\n",
       "    }\n",
       "</style>\n",
       "<table border=\"1\" class=\"dataframe\">\n",
       "  <thead>\n",
       "    <tr style=\"text-align: right;\">\n",
       "      <th></th>\n",
       "      <th>count</th>\n",
       "      <th>min</th>\n",
       "      <th>max</th>\n",
       "      <th>mean</th>\n",
       "      <th>median</th>\n",
       "      <th>std</th>\n",
       "      <th>sum</th>\n",
       "    </tr>\n",
       "    <tr>\n",
       "      <th>month</th>\n",
       "      <th></th>\n",
       "      <th></th>\n",
       "      <th></th>\n",
       "      <th></th>\n",
       "      <th></th>\n",
       "      <th></th>\n",
       "      <th></th>\n",
       "    </tr>\n",
       "  </thead>\n",
       "  <tbody>\n",
       "    <tr>\n",
       "      <th>12</th>\n",
       "      <td>31</td>\n",
       "      <td>8444.970000</td>\n",
       "      <td>9019.19</td>\n",
       "      <td>8773.724839</td>\n",
       "      <td>8768.410000</td>\n",
       "      <td>136.727339</td>\n",
       "      <td>271985.470000</td>\n",
       "    </tr>\n",
       "    <tr>\n",
       "      <th>11</th>\n",
       "      <td>53</td>\n",
       "      <td>8103.980000</td>\n",
       "      <td>9197.99</td>\n",
       "      <td>8658.600943</td>\n",
       "      <td>8674.470000</td>\n",
       "      <td>274.490402</td>\n",
       "      <td>458905.850000</td>\n",
       "    </tr>\n",
       "    <tr>\n",
       "      <th>2</th>\n",
       "      <td>56</td>\n",
       "      <td>7365.830000</td>\n",
       "      <td>8850.22</td>\n",
       "      <td>8365.320490</td>\n",
       "      <td>8546.275000</td>\n",
       "      <td>435.204655</td>\n",
       "      <td>468457.947433</td>\n",
       "    </tr>\n",
       "    <tr>\n",
       "      <th>4</th>\n",
       "      <td>60</td>\n",
       "      <td>6766.370000</td>\n",
       "      <td>9166.56</td>\n",
       "      <td>8331.490667</td>\n",
       "      <td>8803.635000</td>\n",
       "      <td>750.950472</td>\n",
       "      <td>499889.440000</td>\n",
       "    </tr>\n",
       "    <tr>\n",
       "      <th>7</th>\n",
       "      <td>62</td>\n",
       "      <td>7401.900000</td>\n",
       "      <td>9127.92</td>\n",
       "      <td>8365.562055</td>\n",
       "      <td>8456.695000</td>\n",
       "      <td>551.295800</td>\n",
       "      <td>518664.847433</td>\n",
       "    </tr>\n",
       "    <tr>\n",
       "      <th>10</th>\n",
       "      <td>62</td>\n",
       "      <td>7271.800000</td>\n",
       "      <td>9019.22</td>\n",
       "      <td>8397.403949</td>\n",
       "      <td>8649.620000</td>\n",
       "      <td>507.524487</td>\n",
       "      <td>520639.044866</td>\n",
       "    </tr>\n",
       "    <tr>\n",
       "      <th>6</th>\n",
       "      <td>60</td>\n",
       "      <td>8220.670000</td>\n",
       "      <td>9198.97</td>\n",
       "      <td>8691.810158</td>\n",
       "      <td>8681.538717</td>\n",
       "      <td>245.178856</td>\n",
       "      <td>521508.609464</td>\n",
       "    </tr>\n",
       "    <tr>\n",
       "      <th>5</th>\n",
       "      <td>62</td>\n",
       "      <td>7652.930000</td>\n",
       "      <td>9081.48</td>\n",
       "      <td>8460.686521</td>\n",
       "      <td>8492.413717</td>\n",
       "      <td>288.993387</td>\n",
       "      <td>524562.564330</td>\n",
       "    </tr>\n",
       "    <tr>\n",
       "      <th>9</th>\n",
       "      <td>60</td>\n",
       "      <td>8395.267433</td>\n",
       "      <td>9290.02</td>\n",
       "      <td>8803.293102</td>\n",
       "      <td>8827.875000</td>\n",
       "      <td>214.608433</td>\n",
       "      <td>528197.586093</td>\n",
       "    </tr>\n",
       "    <tr>\n",
       "      <th>8</th>\n",
       "      <td>62</td>\n",
       "      <td>7895.520000</td>\n",
       "      <td>9143.67</td>\n",
       "      <td>8643.640033</td>\n",
       "      <td>8678.195000</td>\n",
       "      <td>339.146472</td>\n",
       "      <td>535905.682031</td>\n",
       "    </tr>\n",
       "    <tr>\n",
       "      <th>3</th>\n",
       "      <td>62</td>\n",
       "      <td>8033.410000</td>\n",
       "      <td>9143.65</td>\n",
       "      <td>8663.592581</td>\n",
       "      <td>8695.230000</td>\n",
       "      <td>246.386410</td>\n",
       "      <td>537142.740000</td>\n",
       "    </tr>\n",
       "    <tr>\n",
       "      <th>1</th>\n",
       "      <td>62</td>\n",
       "      <td>8313.530000</td>\n",
       "      <td>9156.73</td>\n",
       "      <td>8724.770645</td>\n",
       "      <td>8758.315000</td>\n",
       "      <td>236.903298</td>\n",
       "      <td>540935.780000</td>\n",
       "    </tr>\n",
       "  </tbody>\n",
       "</table>\n",
       "</div>"
      ],
      "text/plain": [
       "       count          min      max         mean       median         std  \\\n",
       "month                                                                      \n",
       "12        31  8444.970000  9019.19  8773.724839  8768.410000  136.727339   \n",
       "11        53  8103.980000  9197.99  8658.600943  8674.470000  274.490402   \n",
       "2         56  7365.830000  8850.22  8365.320490  8546.275000  435.204655   \n",
       "4         60  6766.370000  9166.56  8331.490667  8803.635000  750.950472   \n",
       "7         62  7401.900000  9127.92  8365.562055  8456.695000  551.295800   \n",
       "10        62  7271.800000  9019.22  8397.403949  8649.620000  507.524487   \n",
       "6         60  8220.670000  9198.97  8691.810158  8681.538717  245.178856   \n",
       "5         62  7652.930000  9081.48  8460.686521  8492.413717  288.993387   \n",
       "9         60  8395.267433  9290.02  8803.293102  8827.875000  214.608433   \n",
       "8         62  7895.520000  9143.67  8643.640033  8678.195000  339.146472   \n",
       "3         62  8033.410000  9143.65  8663.592581  8695.230000  246.386410   \n",
       "1         62  8313.530000  9156.73  8724.770645  8758.315000  236.903298   \n",
       "\n",
       "                 sum  \n",
       "month                 \n",
       "12     271985.470000  \n",
       "11     458905.850000  \n",
       "2      468457.947433  \n",
       "4      499889.440000  \n",
       "7      518664.847433  \n",
       "10     520639.044866  \n",
       "6      521508.609464  \n",
       "5      524562.564330  \n",
       "9      528197.586093  \n",
       "8      535905.682031  \n",
       "3      537142.740000  \n",
       "1      540935.780000  "
      ]
     },
     "execution_count": 49,
     "metadata": {},
     "output_type": "execute_result"
    }
   ],
   "source": [
    "df.groupby('month')['GrocerySales'].agg(['count','min','max','mean','median','std','sum']).sort_values(by='sum')"
   ]
  },
  {
   "cell_type": "code",
   "execution_count": 13,
   "metadata": {},
   "outputs": [
    {
     "data": {
      "image/png": "[encoded data removed]",
      "text/plain": [
       "<Figure size 432x288 with 1 Axes>"
      ]
     },
     "metadata": {
      "needs_background": "light"
     },
     "output_type": "display_data"
    }
   ],
   "source": [
    "df.groupby('month')['GrocerySales'].sum().sort_values().plot(kind='bar')\n",
    "plt.savefig(\"month-sales.png\")"
   ]
  },
  {
   "cell_type": "code",
   "execution_count": 14,
   "metadata": {},
   "outputs": [
    {
     "data": {
      "image/png": "[encoded data removed]",
      "text/plain": [
       "<Figure size 720x432 with 1 Axes>"
      ]
     },
     "metadata": {
      "needs_background": "light"
     },
     "output_type": "display_data"
    }
   ],
   "source": [
    "df.set_index('Date').resample('D')['GrocerySales'].sum().plot(kind='line',figsize=(10,6))\n",
    "plt.savefig(\"Daysales.png\")"
   ]
  },
  {
   "cell_type": "code",
   "execution_count": null,
   "metadata": {},
   "outputs": [],
   "source": [
    "# Week"
   ]
  },
  {
   "cell_type": "code",
   "execution_count": 15,
   "metadata": {},
   "outputs": [
    {
     "data": {
      "image/png": "[encoded data removed]",
      "text/plain": [
       "<Figure size 720x432 with 1 Axes>"
      ]
     },
     "metadata": {
      "needs_background": "light"
     },
     "output_type": "display_data"
    }
   ],
   "source": [
    "df.set_index('Date').resample('W')['GrocerySales'].sum().plot(kind='line',figsize=(10,6))\n",
    "plt.savefig(\"weeksales.png\")"
   ]
  },
  {
   "cell_type": "code",
   "execution_count": null,
   "metadata": {},
   "outputs": [],
   "source": [
    "# Month"
   ]
  },
  {
   "cell_type": "code",
   "execution_count": 16,
   "metadata": {},
   "outputs": [
    {
     "data": {
      "image/png": "[encoded data removed]",
      "text/plain": [
       "<Figure size 720x432 with 1 Axes>"
      ]
     },
     "metadata": {
      "needs_background": "light"
     },
     "output_type": "display_data"
    }
   ],
   "source": [
    "df.set_index('Date').resample('M')['GrocerySales'].sum().plot(kind='line',figsize=(10,6))\n",
    "plt.savefig(\"monthsales.png\")"
   ]
  },
  {
   "cell_type": "code",
   "execution_count": 17,
   "metadata": {},
   "outputs": [
    {
     "data": {
      "image/png": "[encoded data removed]",
      "text/plain": [
       "<Figure size 720x432 with 1 Axes>"
      ]
     },
     "metadata": {
      "needs_background": "light"
     },
     "output_type": "display_data"
    }
   ],
   "source": [
    "df.set_index('Date').resample('Y')['GrocerySales'].sum().plot(kind='line',figsize=(10,6))\n",
    "plt.savefig(\"yearsales.png\")"
   ]
  },
  {
   "cell_type": "code",
   "execution_count": 59,
   "metadata": {},
   "outputs": [
    {
     "data": {
      "text/plain": [
       "<matplotlib.axes._subplots.AxesSubplot at 0x19ed1638208>"
      ]
     },
     "execution_count": 59,
     "metadata": {},
     "output_type": "execute_result"
    },
    {
     "data": {
      "image/png": "[encoded data removed]",
      "text/plain": [
       "<Figure size 432x288 with 1 Axes>"
      ]
     },
     "metadata": {
      "needs_background": "light"
     },
     "output_type": "display_data"
    }
   ],
   "source": [
    "df.groupby('month')['GrocerySales'].sum().sort_index().plot(kind='bar')"
   ]
  },
  {
   "cell_type": "code",
   "execution_count": 60,
   "metadata": {},
   "outputs": [
    {
     "data": {
      "text/html": [
       "<div>\n",
       "<style scoped>\n",
       "    .dataframe tbody tr th:only-of-type {\n",
       "        vertical-align: middle;\n",
       "    }\n",
       "\n",
       "    .dataframe tbody tr th {\n",
       "        vertical-align: top;\n",
       "    }\n",
       "\n",
       "    .dataframe thead th {\n",
       "        text-align: right;\n",
       "    }\n",
       "</style>\n",
       "<table border=\"1\" class=\"dataframe\">\n",
       "  <thead>\n",
       "    <tr style=\"text-align: right;\">\n",
       "      <th></th>\n",
       "      <th>count</th>\n",
       "      <th>min</th>\n",
       "      <th>max</th>\n",
       "      <th>sum</th>\n",
       "      <th>mean</th>\n",
       "    </tr>\n",
       "    <tr>\n",
       "      <th>dayofweek</th>\n",
       "      <th></th>\n",
       "      <th></th>\n",
       "      <th></th>\n",
       "      <th></th>\n",
       "      <th></th>\n",
       "    </tr>\n",
       "  </thead>\n",
       "  <tbody>\n",
       "    <tr>\n",
       "      <th>6</th>\n",
       "      <td>98</td>\n",
       "      <td>6766.37</td>\n",
       "      <td>9122.25</td>\n",
       "      <td>836690.649464</td>\n",
       "      <td>8537.659688</td>\n",
       "    </tr>\n",
       "    <tr>\n",
       "      <th>0</th>\n",
       "      <td>99</td>\n",
       "      <td>6777.93</td>\n",
       "      <td>9145.24</td>\n",
       "      <td>849238.336897</td>\n",
       "      <td>8578.165019</td>\n",
       "    </tr>\n",
       "    <tr>\n",
       "      <th>1</th>\n",
       "      <td>99</td>\n",
       "      <td>7042.67</td>\n",
       "      <td>9166.56</td>\n",
       "      <td>847455.822031</td>\n",
       "      <td>8560.159818</td>\n",
       "    </tr>\n",
       "    <tr>\n",
       "      <th>2</th>\n",
       "      <td>99</td>\n",
       "      <td>7186.41</td>\n",
       "      <td>9156.73</td>\n",
       "      <td>845073.539464</td>\n",
       "      <td>8536.096358</td>\n",
       "    </tr>\n",
       "    <tr>\n",
       "      <th>3</th>\n",
       "      <td>99</td>\n",
       "      <td>7333.94</td>\n",
       "      <td>9197.99</td>\n",
       "      <td>849093.524598</td>\n",
       "      <td>8576.702269</td>\n",
       "    </tr>\n",
       "    <tr>\n",
       "      <th>4</th>\n",
       "      <td>99</td>\n",
       "      <td>6895.51</td>\n",
       "      <td>9253.00</td>\n",
       "      <td>848669.679464</td>\n",
       "      <td>8572.421005</td>\n",
       "    </tr>\n",
       "    <tr>\n",
       "      <th>5</th>\n",
       "      <td>99</td>\n",
       "      <td>7028.23</td>\n",
       "      <td>9290.02</td>\n",
       "      <td>850574.009732</td>\n",
       "      <td>8591.656664</td>\n",
       "    </tr>\n",
       "  </tbody>\n",
       "</table>\n",
       "</div>"
      ],
      "text/plain": [
       "           count      min      max            sum         mean\n",
       "dayofweek                                                     \n",
       "6             98  6766.37  9122.25  836690.649464  8537.659688\n",
       "0             99  6777.93  9145.24  849238.336897  8578.165019\n",
       "1             99  7042.67  9166.56  847455.822031  8560.159818\n",
       "2             99  7186.41  9156.73  845073.539464  8536.096358\n",
       "3             99  7333.94  9197.99  849093.524598  8576.702269\n",
       "4             99  6895.51  9253.00  848669.679464  8572.421005\n",
       "5             99  7028.23  9290.02  850574.009732  8591.656664"
      ]
     },
     "execution_count": 60,
     "metadata": {},
     "output_type": "execute_result"
    }
   ],
   "source": [
    "df.groupby('dayofweek')['GrocerySales'].agg(['count','min','max','sum','mean']).sort_values(by='count')"
   ]
  },
  {
   "cell_type": "code",
   "execution_count": 62,
   "metadata": {},
   "outputs": [
    {
     "data": {
      "text/html": [
       "<div>\n",
       "<style scoped>\n",
       "    .dataframe tbody tr th:only-of-type {\n",
       "        vertical-align: middle;\n",
       "    }\n",
       "\n",
       "    .dataframe tbody tr th {\n",
       "        vertical-align: top;\n",
       "    }\n",
       "\n",
       "    .dataframe thead th {\n",
       "        text-align: right;\n",
       "    }\n",
       "</style>\n",
       "<table border=\"1\" class=\"dataframe\">\n",
       "  <thead>\n",
       "    <tr style=\"text-align: right;\">\n",
       "      <th></th>\n",
       "      <th></th>\n",
       "      <th>count</th>\n",
       "      <th>min</th>\n",
       "      <th>max</th>\n",
       "      <th>sum</th>\n",
       "      <th>mean</th>\n",
       "    </tr>\n",
       "    <tr>\n",
       "      <th>year</th>\n",
       "      <th>quarter</th>\n",
       "      <th></th>\n",
       "      <th></th>\n",
       "      <th></th>\n",
       "      <th></th>\n",
       "      <th></th>\n",
       "    </tr>\n",
       "  </thead>\n",
       "  <tbody>\n",
       "    <tr>\n",
       "      <th rowspan=\"4\" valign=\"top\">2018</th>\n",
       "      <th>1</th>\n",
       "      <td>90</td>\n",
       "      <td>7365.83</td>\n",
       "      <td>8977.75</td>\n",
       "      <td>759672.650000</td>\n",
       "      <td>8440.807222</td>\n",
       "    </tr>\n",
       "    <tr>\n",
       "      <th>2</th>\n",
       "      <td>91</td>\n",
       "      <td>6766.37</td>\n",
       "      <td>9198.97</td>\n",
       "      <td>754199.466629</td>\n",
       "      <td>8287.906227</td>\n",
       "    </tr>\n",
       "    <tr>\n",
       "      <th>3</th>\n",
       "      <td>92</td>\n",
       "      <td>7401.90</td>\n",
       "      <td>8966.02</td>\n",
       "      <td>763986.858124</td>\n",
       "      <td>8304.204980</td>\n",
       "    </tr>\n",
       "    <tr>\n",
       "      <th>4</th>\n",
       "      <td>92</td>\n",
       "      <td>7271.80</td>\n",
       "      <td>9019.19</td>\n",
       "      <td>773551.044866</td>\n",
       "      <td>8408.163531</td>\n",
       "    </tr>\n",
       "    <tr>\n",
       "      <th rowspan=\"4\" valign=\"top\">2019</th>\n",
       "      <th>1</th>\n",
       "      <td>90</td>\n",
       "      <td>8308.05</td>\n",
       "      <td>9156.73</td>\n",
       "      <td>786863.817433</td>\n",
       "      <td>8742.931305</td>\n",
       "    </tr>\n",
       "    <tr>\n",
       "      <th>2</th>\n",
       "      <td>91</td>\n",
       "      <td>8220.67</td>\n",
       "      <td>9166.56</td>\n",
       "      <td>791761.147165</td>\n",
       "      <td>8700.671947</td>\n",
       "    </tr>\n",
       "    <tr>\n",
       "      <th>3</th>\n",
       "      <td>92</td>\n",
       "      <td>8041.11</td>\n",
       "      <td>9290.02</td>\n",
       "      <td>818781.257433</td>\n",
       "      <td>8899.796276</td>\n",
       "    </tr>\n",
       "    <tr>\n",
       "      <th>4</th>\n",
       "      <td>54</td>\n",
       "      <td>8629.93</td>\n",
       "      <td>9197.99</td>\n",
       "      <td>477979.320000</td>\n",
       "      <td>8851.468889</td>\n",
       "    </tr>\n",
       "  </tbody>\n",
       "</table>\n",
       "</div>"
      ],
      "text/plain": [
       "              count      min      max            sum         mean\n",
       "year quarter                                                     \n",
       "2018 1           90  7365.83  8977.75  759672.650000  8440.807222\n",
       "     2           91  6766.37  9198.97  754199.466629  8287.906227\n",
       "     3           92  7401.90  8966.02  763986.858124  8304.204980\n",
       "     4           92  7271.80  9019.19  773551.044866  8408.163531\n",
       "2019 1           90  8308.05  9156.73  786863.817433  8742.931305\n",
       "     2           91  8220.67  9166.56  791761.147165  8700.671947\n",
       "     3           92  8041.11  9290.02  818781.257433  8899.796276\n",
       "     4           54  8629.93  9197.99  477979.320000  8851.468889"
      ]
     },
     "execution_count": 62,
     "metadata": {},
     "output_type": "execute_result"
    }
   ],
   "source": [
    "df.groupby(['year','quarter'])['GrocerySales'].agg(['count','min','max','sum','mean'])"
   ]
  },
  {
   "cell_type": "code",
   "execution_count": null,
   "metadata": {},
   "outputs": [],
   "source": [
    "# Encoding categorical cols"
   ]
  },
  {
   "cell_type": "code",
   "execution_count": 16,
   "metadata": {},
   "outputs": [],
   "source": [
    "from sklearn.preprocessing import LabelEncoder"
   ]
  },
  {
   "cell_type": "code",
   "execution_count": 17,
   "metadata": {},
   "outputs": [],
   "source": [
    "le=LabelEncoder()"
   ]
  },
  {
   "cell_type": "code",
   "execution_count": 18,
   "metadata": {},
   "outputs": [],
   "source": [
    "df[\"is_month_start\"]=le.fit_transform(df[\"is_month_start\"])\n",
    "df[\"is_month_end\"]=le.fit_transform(df[\"is_month_end\"])\n",
    "df[\"is_quarter_start\"]=le.fit_transform(df[\"is_quarter_start\"])\n",
    "df[\"is_quarter_end\"]=le.fit_transform(df[\"is_quarter_end\"])"
   ]
  },
  {
   "cell_type": "code",
   "execution_count": null,
   "metadata": {},
   "outputs": [],
   "source": [
    "# Applying same preprocessing technique on test dataset"
   ]
  },
  {
   "cell_type": "code",
   "execution_count": 19,
   "metadata": {},
   "outputs": [],
   "source": [
    "test[\"is_month_start\"]=le.fit_transform(test[\"is_month_start\"])\n",
    "test[\"is_month_end\"]=le.fit_transform(test[\"is_month_end\"])\n",
    "test[\"is_quarter_start\"]=le.fit_transform(test[\"is_quarter_start\"])\n",
    "test[\"is_quarter_end\"]=le.fit_transform(test[\"is_quarter_end\"])"
   ]
  },
  {
   "cell_type": "code",
   "execution_count": null,
   "metadata": {},
   "outputs": [],
   "source": [
    "# Dropping unnecessary cols"
   ]
  },
  {
   "cell_type": "code",
   "execution_count": 20,
   "metadata": {},
   "outputs": [],
   "source": [
    "del df[\"Date\"]\n",
    "del test[\"Date\"]"
   ]
  },
  {
   "cell_type": "code",
   "execution_count": 181,
   "metadata": {},
   "outputs": [],
   "source": [
    "del df[\"is_month_start\"]\n",
    "del df[\"is_quarter_start\"]\n",
    "del test[\"is_month_start\"]\n",
    "del test[\"is_quarter_start\"]"
   ]
  },
  {
   "cell_type": "code",
   "execution_count": null,
   "metadata": {},
   "outputs": [],
   "source": [
    "# Lets divide dataset into dependent and independent variables"
   ]
  },
  {
   "cell_type": "code",
   "execution_count": 21,
   "metadata": {},
   "outputs": [],
   "source": [
    "y=df[\"GrocerySales\"]\n",
    "x=df.drop([\"GrocerySales\"],axis=1)"
   ]
  },
  {
   "cell_type": "code",
   "execution_count": null,
   "metadata": {},
   "outputs": [],
   "source": []
  },
  {
   "cell_type": "code",
   "execution_count": null,
   "metadata": {},
   "outputs": [],
   "source": [
    "# Feature importance"
   ]
  },
  {
   "cell_type": "code",
   "execution_count": 29,
   "metadata": {},
   "outputs": [
    {
     "name": "stderr",
     "output_type": "stream",
     "text": [
      "c:\\users\\acer\\appdata\\local\\programs\\python\\python36\\lib\\site-packages\\sklearn\\ensemble\\forest.py:245: FutureWarning: The default value of n_estimators will change from 10 in version 0.20 to 100 in 0.22.\n",
      "  \"10 in version 0.20 to 100 in 0.22.\", FutureWarning)\n"
     ]
    },
    {
     "name": "stdout",
     "output_type": "stream",
     "text": [
      "[0.26316487 0.22930463 0.23208581 0.04177546 0.13660345 0.08620385\n",
      " 0.0016068  0.00592499 0.00055826 0.00277188]\n"
     ]
    },
    {
     "data": {
      "image/png": "[encoded data removed]",
      "text/plain": [
       "<Figure size 1080x360 with 1 Axes>"
      ]
     },
     "metadata": {
      "needs_background": "light"
     },
     "output_type": "display_data"
    },
    {
     "data": {
      "text/plain": [
       "<Figure size 432x288 with 0 Axes>"
      ]
     },
     "metadata": {},
     "output_type": "display_data"
    }
   ],
   "source": [
    "fig=plt.figure(figsize=(15,5))\n",
    "model = ExtraTreesRegressor()\n",
    "model.fit(x,y)\n",
    "print(model.feature_importances_)\n",
    "#plot graph of feature importances for better visualization\n",
    "feat_importances = pd.Series(model.feature_importances_, index=x.columns)\n",
    "feat_importances.nlargest(11).plot(kind='barh')\n",
    "plt.show()\n",
    "plt.savefig(\"featimp.png\")"
   ]
  },
  {
   "cell_type": "code",
   "execution_count": null,
   "metadata": {},
   "outputs": [],
   "source": [
    "# Importing required libraries"
   ]
  },
  {
   "cell_type": "code",
   "execution_count": 37,
   "metadata": {},
   "outputs": [],
   "source": [
    "from sklearn.ensemble import RandomForestRegressor,BaggingRegressor,ExtraTreesRegressor\n",
    "from sklearn.model_selection import train_test_split\n",
    "from sklearn.tree import DecisionTreeRegressor\n",
    "from sklearn.neighbors import KNeighborsRegressor\n",
    "from sklearn.linear_model import SGDRegressor\n",
    "from xgboost import XGBRegressor\n",
    "from sklearn.linear_model import Ridge\n",
    "from sklearn.linear_model import Lasso\n",
    "from sklearn.ensemble import AdaBoostRegressor\n",
    "from sklearn.metrics import mean_squared_log_error\n",
    "from sklearn.linear_model import LinearRegression,Ridge\n",
    "from sklearn.metrics import r2_score\n",
    "from sklearn.metrics import mean_squared_error\n",
    "from sklearn.model_selection import KFold,GridSearchCV"
   ]
  },
  {
   "cell_type": "code",
   "execution_count": null,
   "metadata": {},
   "outputs": [],
   "source": [
    "# splitting the dataset using train test split"
   ]
  },
  {
   "cell_type": "code",
   "execution_count": 24,
   "metadata": {},
   "outputs": [],
   "source": [
    "x_train,x_test,y_train,y_test=train_test_split(x,y,test_size=0.3,random_state=0)"
   ]
  },
  {
   "cell_type": "code",
   "execution_count": null,
   "metadata": {},
   "outputs": [],
   "source": [
    "# Printing the shape of splitted dataset"
   ]
  },
  {
   "cell_type": "code",
   "execution_count": 25,
   "metadata": {},
   "outputs": [
    {
     "name": "stdout",
     "output_type": "stream",
     "text": [
      "shape of x_train: (484, 10)\n",
      "shape of y_train: (484,)\n",
      "shape of x_test: (208, 10)\n",
      "shape of y_test: (208,)\n"
     ]
    }
   ],
   "source": [
    "print(\"shape of x_train:\",x_train.shape)\n",
    "print(\"shape of y_train:\",y_train.shape)\n",
    "print(\"shape of x_test:\",x_test.shape)\n",
    "print(\"shape of y_test:\",y_test.shape)"
   ]
  },
  {
   "cell_type": "code",
   "execution_count": null,
   "metadata": {},
   "outputs": [],
   "source": [
    "# Applying ML algo"
   ]
  },
  {
   "cell_type": "code",
   "execution_count": 34,
   "metadata": {},
   "outputs": [
    {
     "name": "stdout",
     "output_type": "stream",
     "text": [
      "4.253076659964492\n"
     ]
    }
   ],
   "source": [
    "ridge = Ridge()\n",
    "ridge.fit(x_train,y_train)\n",
    "pred=ridge.predict(x_test)\n",
    "rmsle=np.sqrt(mean_squared_log_error(y_test,pred))\n",
    "print(rmsle*100)"
   ]
  },
  {
   "cell_type": "code",
   "execution_count": null,
   "metadata": {},
   "outputs": [],
   "source": []
  },
  {
   "cell_type": "code",
   "execution_count": 33,
   "metadata": {},
   "outputs": [
    {
     "name": "stdout",
     "output_type": "stream",
     "text": [
      "2.766025749919967\n"
     ]
    }
   ],
   "source": [
    "dtr=DecisionTreeRegressor()\n",
    "dtr.fit(x_train,y_train)\n",
    "pred=dtr.predict(x_test)\n",
    "rmsle=np.sqrt(mean_squared_log_error(y_test,pred))\n",
    "print(rmsle*100)"
   ]
  },
  {
   "cell_type": "code",
   "execution_count": 40,
   "metadata": {},
   "outputs": [
    {
     "name": "stdout",
     "output_type": "stream",
     "text": [
      "2.932577649405642\n"
     ]
    }
   ],
   "source": [
    "br=BaggingRegressor()\n",
    "br.fit(x_train,y_train)\n",
    "pred=br.predict(x_test)\n",
    "rmsle=np.sqrt(mean_squared_log_error(y_test,pred))\n",
    "print(rmsle*100)"
   ]
  },
  {
   "cell_type": "code",
   "execution_count": 41,
   "metadata": {},
   "outputs": [
    {
     "name": "stdout",
     "output_type": "stream",
     "text": [
      "4.883320135505683\n"
     ]
    }
   ],
   "source": [
    "lr=LinearRegression()\n",
    "lr.fit(x_train,y_train)\n",
    "pred=lr.predict(x_test)\n",
    "rmsle=np.sqrt(mean_squared_log_error(y_test,pred))\n",
    "print(rmsle*100)"
   ]
  },
  {
   "cell_type": "code",
   "execution_count": 42,
   "metadata": {},
   "outputs": [
    {
     "name": "stdout",
     "output_type": "stream",
     "text": [
      "3.0228892837525247\n"
     ]
    },
    {
     "name": "stderr",
     "output_type": "stream",
     "text": [
      "c:\\users\\acer\\appdata\\local\\programs\\python\\python36\\lib\\site-packages\\sklearn\\ensemble\\forest.py:245: FutureWarning: The default value of n_estimators will change from 10 in version 0.20 to 100 in 0.22.\n",
      "  \"10 in version 0.20 to 100 in 0.22.\", FutureWarning)\n"
     ]
    }
   ],
   "source": [
    "rf=RandomForestRegressor()\n",
    "rf.fit(x_train,y_train)\n",
    "pred=rf.predict(x_test)\n",
    "rmsle=np.sqrt(mean_squared_log_error(y_test,pred))\n",
    "print(rmsle*100)"
   ]
  },
  {
   "cell_type": "code",
   "execution_count": 38,
   "metadata": {},
   "outputs": [
    {
     "name": "stdout",
     "output_type": "stream",
     "text": [
      "Fitting 5 folds for each of 54 candidates, totalling 270 fits\n"
     ]
    },
    {
     "name": "stderr",
     "output_type": "stream",
     "text": [
      "[Parallel(n_jobs=-1)]: Using backend LokyBackend with 8 concurrent workers.\n",
      "[Parallel(n_jobs=-1)]: Done  34 tasks      | elapsed:    6.2s\n",
      "[Parallel(n_jobs=-1)]: Done 184 tasks      | elapsed:   11.0s\n",
      "[Parallel(n_jobs=-1)]: Done 270 out of 270 | elapsed:   14.0s finished\n"
     ]
    },
    {
     "name": "stdout",
     "output_type": "stream",
     "text": [
      "R2 score =  0.7231569977938798 / 1.0\n",
      "MSE score =  44466.42683377578 / 0.0\n",
      "2.543822054236349\n"
     ]
    }
   ],
   "source": [
    "RFR = RandomForestRegressor()\n",
    "\n",
    "# Choose some parameter combinations to try\n",
    "parameters = {'n_estimators': [5,10,100],\n",
    "              'criterion': ['mse'],\n",
    "              'max_depth': [5,10,15], \n",
    "              'min_samples_split': [2,5,10],\n",
    "              'min_samples_leaf': [1,5]\n",
    "             }\n",
    "\n",
    "\n",
    "#We have to use RandomForestRegressor's own scorer (which is R^2 score)\n",
    "\n",
    "#Determines the cross-validation splitting strategy /to specify the number of folds in a (Stratified)KFold\n",
    "grid_obj = GridSearchCV(RFR, parameters,\n",
    "                        cv=5, \n",
    "                        n_jobs=-1, #Number of jobs to run in parallel\n",
    "                        verbose=1)\n",
    "grid_obj = grid_obj.fit(x_train, y_train)\n",
    "\n",
    "# Set the clf to the best combination of parameters\n",
    "RFR = grid_obj.best_estimator_\n",
    "\n",
    "# Fit the best algorithm to the data. \n",
    "RFR.fit(x_train, y_train)\n",
    "y_pred = RFR.predict(x_test)\n",
    "\n",
    "print('R2 score = ',r2_score(y_test, y_pred), '/ 1.0')\n",
    "print('MSE score = ',mean_squared_error(y_test, y_pred), '/ 0.0')\n",
    "rmsle=np.sqrt(mean_squared_log_error(y_test,y_pred))\n",
    "print(rmsle*100)"
   ]
  },
  {
   "cell_type": "code",
   "execution_count": 43,
   "metadata": {},
   "outputs": [
    {
     "name": "stdout",
     "output_type": "stream",
     "text": [
      "2.7899116958247125\n"
     ]
    },
    {
     "name": "stderr",
     "output_type": "stream",
     "text": [
      "c:\\users\\acer\\appdata\\local\\programs\\python\\python36\\lib\\site-packages\\sklearn\\ensemble\\forest.py:245: FutureWarning: The default value of n_estimators will change from 10 in version 0.20 to 100 in 0.22.\n",
      "  \"10 in version 0.20 to 100 in 0.22.\", FutureWarning)\n"
     ]
    }
   ],
   "source": [
    "etr=ExtraTreesRegressor()\n",
    "etr.fit(x_train,y_train)\n",
    "pred=etr.predict(x_test)\n",
    "rmsle=np.sqrt(mean_squared_log_error(y_test,pred))\n",
    "print(rmsle*100)"
   ]
  },
  {
   "cell_type": "code",
   "execution_count": 39,
   "metadata": {},
   "outputs": [
    {
     "name": "stdout",
     "output_type": "stream",
     "text": [
      "Fitting 3 folds for each of 54 candidates, totalling 162 fits\n"
     ]
    },
    {
     "name": "stderr",
     "output_type": "stream",
     "text": [
      "[Parallel(n_jobs=-1)]: Using backend LokyBackend with 8 concurrent workers.\n",
      "[Parallel(n_jobs=-1)]: Done  52 tasks      | elapsed:    1.1s\n"
     ]
    },
    {
     "name": "stdout",
     "output_type": "stream",
     "text": [
      "R2 score =  0.7231569977938798 / 1.0\n",
      "MSE score =  44466.42683377578 / 0.0\n",
      "2.543822054236349\n"
     ]
    },
    {
     "name": "stderr",
     "output_type": "stream",
     "text": [
      "[Parallel(n_jobs=-1)]: Done 162 out of 162 | elapsed:    3.7s finished\n"
     ]
    }
   ],
   "source": [
    "etr = ExtraTreesRegressor()\n",
    "\n",
    "# Choose some parameter combinations to try\n",
    "\n",
    "parameters = {'n_estimators': [5,10,100],\n",
    "              'criterion': ['mse'],\n",
    "              'max_depth': [5,10,15], \n",
    "              'min_samples_split': [2,5,10],\n",
    "              'min_samples_leaf': [1,5]\n",
    "             }\n",
    "#We have to use RandomForestRegressor's own scorer (which is R^2 score)\n",
    "\n",
    "#Determines the cross-validation splitting strategy /to specify the number of folds in a (Stratified)KFold\n",
    "\n",
    "grid_obj = GridSearchCV(etr, parameters,\n",
    "                        cv=3, \n",
    "                        n_jobs=-1, #Number of jobs to run in parallel\n",
    "                        verbose=1)\n",
    "grid_obj = grid_obj.fit(x_train, y_train)\n",
    "\n",
    "# Set the clf to the best combination of parameters\n",
    "etr = grid_obj.best_estimator_\n",
    "\n",
    "# Fit the best algorithm to the data. \n",
    "etr.fit(x_train, y_train)\n",
    "\n",
    "y_pred = RFR.predict(x_test)\n",
    "\n",
    "print('R2 score = ',r2_score(y_test, y_pred), '/ 1.0')\n",
    "print('MSE score = ',mean_squared_error(y_test, y_pred), '/ 0.0')\n",
    "rmsle=np.sqrt(mean_squared_log_error(y_test,y_pred))\n",
    "print(rmsle*100)"
   ]
  },
  {
   "cell_type": "code",
   "execution_count": 44,
   "metadata": {},
   "outputs": [
    {
     "name": "stdout",
     "output_type": "stream",
     "text": [
      "4.378827658391303\n"
     ]
    }
   ],
   "source": [
    "knn=KNeighborsRegressor()\n",
    "knn.fit(x_train,y_train)\n",
    "pred=knn.predict(x_test)\n",
    "rmsle=np.sqrt(mean_squared_log_error(y_test,pred))\n",
    "print(rmsle*100)"
   ]
  },
  {
   "cell_type": "code",
   "execution_count": 45,
   "metadata": {},
   "outputs": [
    {
     "name": "stdout",
     "output_type": "stream",
     "text": [
      "3.188794005276934\n"
     ]
    }
   ],
   "source": [
    "xgb=XGBRegressor()\n",
    "xgb.fit(x_train,y_train)\n",
    "pred=xgb.predict(x_test)\n",
    "rmsle=np.sqrt(mean_squared_log_error(y_test,pred))\n",
    "print(rmsle*100)"
   ]
  },
  {
   "cell_type": "code",
   "execution_count": 46,
   "metadata": {},
   "outputs": [
    {
     "name": "stdout",
     "output_type": "stream",
     "text": [
      "3.7964617923420074\n"
     ]
    }
   ],
   "source": [
    "abr=AdaBoostRegressor()\n",
    "abr.fit(x_train,y_train)\n",
    "pred=abr.predict(x_test)\n",
    "rmsle=np.sqrt(mean_squared_log_error(y_test,pred))\n",
    "print(rmsle*100)"
   ]
  },
  {
   "cell_type": "code",
   "execution_count": 40,
   "metadata": {},
   "outputs": [],
   "source": [
    "from sklearn.ensemble import GradientBoostingRegressor"
   ]
  },
  {
   "cell_type": "code",
   "execution_count": 41,
   "metadata": {},
   "outputs": [
    {
     "name": "stdout",
     "output_type": "stream",
     "text": [
      "Fitting 5 folds for each of 16 candidates, totalling 80 fits\n"
     ]
    },
    {
     "name": "stderr",
     "output_type": "stream",
     "text": [
      "[Parallel(n_jobs=-1)]: Using backend LokyBackend with 8 concurrent workers.\n",
      "[Parallel(n_jobs=-1)]: Done  80 out of  80 | elapsed:    4.0s finished\n"
     ]
    },
    {
     "name": "stdout",
     "output_type": "stream",
     "text": [
      "R2 score =  0.7231569977938798 / 1.0\n",
      "MSE score =  44466.42683377578 / 0.0\n",
      "2.543822054236349\n"
     ]
    }
   ],
   "source": [
    "#gbr = GradientBoostingRegressor(loss='huber',learning_rate=0.3,n_estimators=100,max_depth=5,min_samples_split=3)\n",
    "gbr=GradientBoostingRegressor()\n",
    "\n",
    "parameters = {'n_estimators': [5,10],\n",
    "              'loss':['huber'],\n",
    "              'criterion': ['mse'],\n",
    "              'max_depth': [5,10], \n",
    "              'min_samples_split': [2,5],\n",
    "              'min_samples_leaf': [1,5]\n",
    "             }\n",
    "\n",
    "#Determines the cross-validation splitting strategy /to specify the number of folds in a (Stratified)KFold\n",
    "grid_obj = GridSearchCV(gbr, parameters,\n",
    "                        cv=5, \n",
    "                        n_jobs=-1, #Number of jobs to run in parallel\n",
    "                        verbose=1)\n",
    "grid_obj = grid_obj.fit(x_train, y_train)\n",
    "\n",
    "# Set the clf to the best combination of parameters\n",
    "gbr = grid_obj.best_estimator_\n",
    "\n",
    "# Fit the best algorithm to the data. \n",
    "gbr.fit(x_train, y_train)\n",
    "\n",
    "y_pred = RFR.predict(x_test)\n",
    "\n",
    "print('R2 score = ',r2_score(y_test, y_pred), '/ 1.0')\n",
    "print('MSE score = ',mean_squared_error(y_test, y_pred), '/ 0.0')\n",
    "rmsle=np.sqrt(mean_squared_log_error(y_test,y_pred))\n",
    "print(rmsle*100)"
   ]
  },
  {
   "cell_type": "code",
   "execution_count": 47,
   "metadata": {},
   "outputs": [
    {
     "name": "stdout",
     "output_type": "stream",
     "text": [
      "2.6793138083507344\n"
     ]
    }
   ],
   "source": [
    "from lightgbm import LGBMRegressor\n",
    "lgbm=LGBMRegressor(max_depth=15)\n",
    "lgbm.fit(x_train,y_train)\n",
    "pred=lgbm.predict(x_test)\n",
    "rmsle=np.sqrt(mean_squared_log_error(y_test,pred))\n",
    "print(rmsle*100)"
   ]
  },
  {
   "cell_type": "code",
   "execution_count": null,
   "metadata": {},
   "outputs": [],
   "source": []
  },
  {
   "cell_type": "code",
   "execution_count": null,
   "metadata": {},
   "outputs": [],
   "source": [
    "# Applying best model on test dataset:488.96,21"
   ]
  },
  {
   "cell_type": "code",
   "execution_count": 69,
   "metadata": {},
   "outputs": [],
   "source": [
    "rf=RandomForestRegressor(n_estimators = 100, oob_score = True, n_jobs = -1,max_features = \"auto\", min_samples_leaf = 1)\n",
    "rf.fit(x,y)\n",
    "pred=rf.predict(test)"
   ]
  },
  {
   "cell_type": "code",
   "execution_count": null,
   "metadata": {},
   "outputs": [],
   "source": [
    "# Converting predicted values in dataframe"
   ]
  },
  {
   "cell_type": "code",
   "execution_count": 70,
   "metadata": {},
   "outputs": [],
   "source": [
    "submission=pd.DataFrame({\"GrocerySales\":pred})"
   ]
  },
  {
   "cell_type": "code",
   "execution_count": null,
   "metadata": {},
   "outputs": [],
   "source": [
    "# Lets prepare our dataframe as asked for submission and exporting result in csv"
   ]
  },
  {
   "cell_type": "code",
   "execution_count": 71,
   "metadata": {},
   "outputs": [],
   "source": [
    "submission.to_csv(\"Gsales2.csv\",index=False)"
   ]
  },
  {
   "cell_type": "code",
   "execution_count": 48,
   "metadata": {},
   "outputs": [],
   "source": [
    "from catboost import CatBoostRegressor\n",
    "import catboost as cb"
   ]
  },
  {
   "cell_type": "code",
   "execution_count": 49,
   "metadata": {},
   "outputs": [
    {
     "name": "stdout",
     "output_type": "stream",
     "text": [
      "Learning rate set to 0.034301\n",
      "0:\tlearn: 434.2834991\ttotal: 111ms\tremaining: 1m 50s\n",
      "1:\tlearn: 429.8165483\ttotal: 113ms\tremaining: 56.5s\n",
      "2:\tlearn: 422.7900516\ttotal: 116ms\tremaining: 38.5s\n",
      "3:\tlearn: 415.5742535\ttotal: 118ms\tremaining: 29.5s\n",
      "4:\tlearn: 410.8202199\ttotal: 121ms\tremaining: 24.1s\n",
      "5:\tlearn: 403.9719734\ttotal: 124ms\tremaining: 20.5s\n",
      "6:\tlearn: 398.3961818\ttotal: 126ms\tremaining: 17.9s\n",
      "7:\tlearn: 395.1147669\ttotal: 127ms\tremaining: 15.8s\n",
      "8:\tlearn: 390.4258125\ttotal: 130ms\tremaining: 14.3s\n",
      "9:\tlearn: 385.2364358\ttotal: 133ms\tremaining: 13.1s\n",
      "10:\tlearn: 380.7957166\ttotal: 135ms\tremaining: 12.1s\n",
      "11:\tlearn: 375.1632494\ttotal: 138ms\tremaining: 11.3s\n",
      "12:\tlearn: 370.9685744\ttotal: 140ms\tremaining: 10.6s\n",
      "13:\tlearn: 365.1823256\ttotal: 143ms\tremaining: 10.1s\n",
      "14:\tlearn: 362.6064748\ttotal: 145ms\tremaining: 9.55s\n",
      "15:\tlearn: 357.5958769\ttotal: 148ms\tremaining: 9.11s\n",
      "16:\tlearn: 353.0741358\ttotal: 151ms\tremaining: 8.71s\n",
      "17:\tlearn: 347.8967350\ttotal: 153ms\tremaining: 8.35s\n",
      "18:\tlearn: 344.6834356\ttotal: 156ms\tremaining: 8.04s\n",
      "19:\tlearn: 342.4553901\ttotal: 158ms\tremaining: 7.75s\n",
      "20:\tlearn: 338.4944764\ttotal: 161ms\tremaining: 7.49s\n",
      "21:\tlearn: 334.9445659\ttotal: 163ms\tremaining: 7.26s\n",
      "22:\tlearn: 332.1130849\ttotal: 168ms\tremaining: 7.14s\n",
      "23:\tlearn: 330.5024429\ttotal: 171ms\tremaining: 6.95s\n",
      "24:\tlearn: 327.5052677\ttotal: 174ms\tremaining: 6.77s\n",
      "25:\tlearn: 323.4989221\ttotal: 176ms\tremaining: 6.6s\n",
      "26:\tlearn: 320.8034972\ttotal: 179ms\tremaining: 6.45s\n",
      "27:\tlearn: 318.3962671\ttotal: 182ms\tremaining: 6.31s\n",
      "28:\tlearn: 316.7855655\ttotal: 184ms\tremaining: 6.17s\n",
      "29:\tlearn: 315.5989565\ttotal: 187ms\tremaining: 6.04s\n",
      "30:\tlearn: 313.5110159\ttotal: 189ms\tremaining: 5.92s\n",
      "31:\tlearn: 311.2810538\ttotal: 192ms\tremaining: 5.8s\n",
      "32:\tlearn: 309.1750467\ttotal: 195ms\tremaining: 5.7s\n",
      "33:\tlearn: 307.4321134\ttotal: 197ms\tremaining: 5.61s\n",
      "34:\tlearn: 304.3004597\ttotal: 200ms\tremaining: 5.52s\n",
      "35:\tlearn: 302.2018730\ttotal: 203ms\tremaining: 5.44s\n",
      "36:\tlearn: 300.9363607\ttotal: 207ms\tremaining: 5.38s\n",
      "37:\tlearn: 298.4733490\ttotal: 210ms\tremaining: 5.31s\n",
      "38:\tlearn: 296.3429890\ttotal: 212ms\tremaining: 5.23s\n",
      "39:\tlearn: 295.2881624\ttotal: 215ms\tremaining: 5.16s\n",
      "40:\tlearn: 294.2376070\ttotal: 217ms\tremaining: 5.08s\n",
      "41:\tlearn: 292.5772013\ttotal: 220ms\tremaining: 5.01s\n",
      "42:\tlearn: 290.6558604\ttotal: 223ms\tremaining: 4.97s\n",
      "43:\tlearn: 288.6341734\ttotal: 226ms\tremaining: 4.91s\n",
      "44:\tlearn: 287.2067154\ttotal: 228ms\tremaining: 4.85s\n",
      "45:\tlearn: 285.0578712\ttotal: 231ms\tremaining: 4.79s\n",
      "46:\tlearn: 283.5939201\ttotal: 234ms\tremaining: 4.74s\n",
      "47:\tlearn: 281.8052922\ttotal: 236ms\tremaining: 4.69s\n",
      "48:\tlearn: 280.6246087\ttotal: 239ms\tremaining: 4.64s\n",
      "49:\tlearn: 278.6845105\ttotal: 241ms\tremaining: 4.59s\n",
      "50:\tlearn: 276.7906727\ttotal: 244ms\tremaining: 4.54s\n",
      "51:\tlearn: 274.4518094\ttotal: 247ms\tremaining: 4.5s\n",
      "52:\tlearn: 272.7634405\ttotal: 249ms\tremaining: 4.46s\n",
      "53:\tlearn: 271.7874908\ttotal: 252ms\tremaining: 4.41s\n",
      "54:\tlearn: 269.9585389\ttotal: 255ms\tremaining: 4.37s\n",
      "55:\tlearn: 268.7898794\ttotal: 257ms\tremaining: 4.33s\n",
      "56:\tlearn: 267.0601722\ttotal: 260ms\tremaining: 4.3s\n",
      "57:\tlearn: 265.6673246\ttotal: 262ms\tremaining: 4.26s\n",
      "58:\tlearn: 263.7857075\ttotal: 265ms\tremaining: 4.23s\n",
      "59:\tlearn: 262.1038060\ttotal: 268ms\tremaining: 4.19s\n",
      "60:\tlearn: 260.7981459\ttotal: 270ms\tremaining: 4.16s\n",
      "61:\tlearn: 259.1363154\ttotal: 273ms\tremaining: 4.12s\n",
      "62:\tlearn: 258.5120661\ttotal: 275ms\tremaining: 4.09s\n",
      "63:\tlearn: 257.8201384\ttotal: 278ms\tremaining: 4.06s\n",
      "64:\tlearn: 256.2916527\ttotal: 280ms\tremaining: 4.03s\n",
      "65:\tlearn: 254.9251087\ttotal: 283ms\tremaining: 4s\n",
      "66:\tlearn: 254.1500114\ttotal: 285ms\tremaining: 3.97s\n",
      "67:\tlearn: 252.5857655\ttotal: 288ms\tremaining: 3.95s\n",
      "68:\tlearn: 251.0182175\ttotal: 291ms\tremaining: 3.92s\n",
      "69:\tlearn: 249.8957928\ttotal: 293ms\tremaining: 3.9s\n",
      "70:\tlearn: 248.3824849\ttotal: 296ms\tremaining: 3.87s\n",
      "71:\tlearn: 247.1995834\ttotal: 298ms\tremaining: 3.85s\n",
      "72:\tlearn: 246.1420818\ttotal: 301ms\tremaining: 3.82s\n",
      "73:\tlearn: 245.3729428\ttotal: 304ms\tremaining: 3.8s\n",
      "74:\tlearn: 244.0090284\ttotal: 306ms\tremaining: 3.78s\n",
      "75:\tlearn: 242.9521374\ttotal: 309ms\tremaining: 3.75s\n",
      "76:\tlearn: 241.7484495\ttotal: 311ms\tremaining: 3.73s\n",
      "77:\tlearn: 240.3328563\ttotal: 314ms\tremaining: 3.71s\n",
      "78:\tlearn: 238.7945556\ttotal: 316ms\tremaining: 3.69s\n",
      "79:\tlearn: 237.6199518\ttotal: 319ms\tremaining: 3.67s\n",
      "80:\tlearn: 236.7394371\ttotal: 321ms\tremaining: 3.65s\n",
      "81:\tlearn: 235.8111181\ttotal: 324ms\tremaining: 3.63s\n",
      "82:\tlearn: 234.8258216\ttotal: 327ms\tremaining: 3.61s\n",
      "83:\tlearn: 233.8211107\ttotal: 329ms\tremaining: 3.59s\n",
      "84:\tlearn: 232.6636437\ttotal: 333ms\tremaining: 3.58s\n",
      "85:\tlearn: 232.1117736\ttotal: 335ms\tremaining: 3.56s\n",
      "86:\tlearn: 231.1444121\ttotal: 338ms\tremaining: 3.55s\n",
      "87:\tlearn: 230.1297474\ttotal: 341ms\tremaining: 3.53s\n",
      "88:\tlearn: 228.4080643\ttotal: 343ms\tremaining: 3.52s\n",
      "89:\tlearn: 227.4845437\ttotal: 346ms\tremaining: 3.5s\n",
      "90:\tlearn: 226.8832882\ttotal: 349ms\tremaining: 3.48s\n",
      "91:\tlearn: 226.4756817\ttotal: 351ms\tremaining: 3.47s\n",
      "92:\tlearn: 225.6419852\ttotal: 354ms\tremaining: 3.45s\n",
      "93:\tlearn: 224.4405849\ttotal: 357ms\tremaining: 3.44s\n",
      "94:\tlearn: 223.3069894\ttotal: 359ms\tremaining: 3.42s\n",
      "95:\tlearn: 222.8882562\ttotal: 362ms\tremaining: 3.41s\n",
      "96:\tlearn: 222.4330993\ttotal: 365ms\tremaining: 3.39s\n",
      "97:\tlearn: 221.5120858\ttotal: 368ms\tremaining: 3.39s\n",
      "98:\tlearn: 221.0589968\ttotal: 371ms\tremaining: 3.38s\n",
      "99:\tlearn: 220.0027546\ttotal: 374ms\tremaining: 3.37s\n",
      "100:\tlearn: 219.0172758\ttotal: 376ms\tremaining: 3.35s\n",
      "101:\tlearn: 218.0815817\ttotal: 379ms\tremaining: 3.33s\n",
      "102:\tlearn: 217.3743679\ttotal: 382ms\tremaining: 3.32s\n",
      "103:\tlearn: 216.8365907\ttotal: 384ms\tremaining: 3.31s\n",
      "104:\tlearn: 215.8399810\ttotal: 387ms\tremaining: 3.3s\n",
      "105:\tlearn: 214.8707933\ttotal: 390ms\tremaining: 3.29s\n",
      "106:\tlearn: 214.2602738\ttotal: 393ms\tremaining: 3.28s\n",
      "107:\tlearn: 214.1326762\ttotal: 396ms\tremaining: 3.27s\n",
      "108:\tlearn: 213.3071913\ttotal: 399ms\tremaining: 3.26s\n",
      "109:\tlearn: 212.4504163\ttotal: 402ms\tremaining: 3.25s\n",
      "110:\tlearn: 211.6968762\ttotal: 404ms\tremaining: 3.24s\n",
      "111:\tlearn: 210.8497288\ttotal: 407ms\tremaining: 3.23s\n",
      "112:\tlearn: 210.0965882\ttotal: 410ms\tremaining: 3.22s\n",
      "113:\tlearn: 209.8703072\ttotal: 413ms\tremaining: 3.21s\n",
      "114:\tlearn: 209.3131650\ttotal: 416ms\tremaining: 3.2s\n",
      "115:\tlearn: 208.6450002\ttotal: 418ms\tremaining: 3.19s\n",
      "116:\tlearn: 208.4551956\ttotal: 421ms\tremaining: 3.17s\n",
      "117:\tlearn: 208.0157578\ttotal: 423ms\tremaining: 3.16s\n",
      "118:\tlearn: 207.5520129\ttotal: 426ms\tremaining: 3.15s\n",
      "119:\tlearn: 207.0271557\ttotal: 429ms\tremaining: 3.14s\n",
      "120:\tlearn: 206.0167272\ttotal: 431ms\tremaining: 3.13s\n",
      "121:\tlearn: 205.5022358\ttotal: 434ms\tremaining: 3.12s\n",
      "122:\tlearn: 204.9490626\ttotal: 436ms\tremaining: 3.11s\n",
      "123:\tlearn: 204.6076766\ttotal: 439ms\tremaining: 3.1s\n",
      "124:\tlearn: 203.9630753\ttotal: 441ms\tremaining: 3.09s\n",
      "125:\tlearn: 203.0433211\ttotal: 444ms\tremaining: 3.08s\n",
      "126:\tlearn: 202.0947240\ttotal: 446ms\tremaining: 3.07s\n",
      "127:\tlearn: 201.2658368\ttotal: 449ms\tremaining: 3.06s\n",
      "128:\tlearn: 200.7604288\ttotal: 451ms\tremaining: 3.05s\n",
      "129:\tlearn: 200.0729255\ttotal: 454ms\tremaining: 3.04s\n",
      "130:\tlearn: 199.7799785\ttotal: 456ms\tremaining: 3.03s\n",
      "131:\tlearn: 199.2638676\ttotal: 459ms\tremaining: 3.02s\n",
      "132:\tlearn: 198.3897546\ttotal: 461ms\tremaining: 3.01s\n",
      "133:\tlearn: 198.1121247\ttotal: 463ms\tremaining: 2.99s\n",
      "134:\tlearn: 197.3570951\ttotal: 466ms\tremaining: 2.98s\n",
      "135:\tlearn: 196.6465284\ttotal: 468ms\tremaining: 2.97s\n",
      "136:\tlearn: 196.2188494\ttotal: 471ms\tremaining: 2.96s\n",
      "137:\tlearn: 195.5763949\ttotal: 473ms\tremaining: 2.96s\n",
      "138:\tlearn: 195.1262560\ttotal: 476ms\tremaining: 2.95s\n",
      "139:\tlearn: 194.3935609\ttotal: 478ms\tremaining: 2.94s\n",
      "140:\tlearn: 193.8956717\ttotal: 481ms\tremaining: 2.93s\n",
      "141:\tlearn: 192.8327381\ttotal: 484ms\tremaining: 2.92s\n",
      "142:\tlearn: 192.5009758\ttotal: 486ms\tremaining: 2.91s\n",
      "143:\tlearn: 192.1279055\ttotal: 489ms\tremaining: 2.9s\n",
      "144:\tlearn: 191.5329806\ttotal: 491ms\tremaining: 2.9s\n",
      "145:\tlearn: 191.2067321\ttotal: 494ms\tremaining: 2.89s\n",
      "146:\tlearn: 190.7818450\ttotal: 496ms\tremaining: 2.88s\n",
      "147:\tlearn: 190.2010494\ttotal: 499ms\tremaining: 2.87s\n",
      "148:\tlearn: 189.7763399\ttotal: 502ms\tremaining: 2.87s\n",
      "149:\tlearn: 189.1353315\ttotal: 505ms\tremaining: 2.86s\n",
      "150:\tlearn: 188.2255887\ttotal: 508ms\tremaining: 2.85s\n",
      "151:\tlearn: 187.4192245\ttotal: 511ms\tremaining: 2.85s\n",
      "152:\tlearn: 186.7060285\ttotal: 513ms\tremaining: 2.84s\n",
      "153:\tlearn: 186.3405236\ttotal: 516ms\tremaining: 2.83s\n",
      "154:\tlearn: 185.7687119\ttotal: 519ms\tremaining: 2.83s\n",
      "155:\tlearn: 185.4545289\ttotal: 521ms\tremaining: 2.82s\n",
      "156:\tlearn: 185.2243256\ttotal: 524ms\tremaining: 2.81s\n",
      "157:\tlearn: 184.6273115\ttotal: 527ms\tremaining: 2.81s\n",
      "158:\tlearn: 183.7957014\ttotal: 529ms\tremaining: 2.8s\n",
      "159:\tlearn: 183.3069316\ttotal: 532ms\tremaining: 2.79s\n",
      "160:\tlearn: 182.8106945\ttotal: 534ms\tremaining: 2.78s\n",
      "161:\tlearn: 182.3876779\ttotal: 537ms\tremaining: 2.78s\n",
      "162:\tlearn: 181.7191603\ttotal: 540ms\tremaining: 2.77s\n",
      "163:\tlearn: 181.4815567\ttotal: 543ms\tremaining: 2.77s\n",
      "164:\tlearn: 180.9636128\ttotal: 545ms\tremaining: 2.76s\n",
      "165:\tlearn: 180.5788782\ttotal: 548ms\tremaining: 2.75s\n",
      "166:\tlearn: 179.9936891\ttotal: 551ms\tremaining: 2.75s\n",
      "167:\tlearn: 179.2348560\ttotal: 553ms\tremaining: 2.74s\n",
      "168:\tlearn: 178.6126607\ttotal: 556ms\tremaining: 2.73s\n",
      "169:\tlearn: 178.2465541\ttotal: 559ms\tremaining: 2.73s\n",
      "170:\tlearn: 177.7675248\ttotal: 562ms\tremaining: 2.72s\n",
      "171:\tlearn: 177.3519718\ttotal: 564ms\tremaining: 2.72s\n",
      "172:\tlearn: 176.8445767\ttotal: 567ms\tremaining: 2.71s\n",
      "173:\tlearn: 176.3586357\ttotal: 570ms\tremaining: 2.7s\n",
      "174:\tlearn: 175.7368535\ttotal: 572ms\tremaining: 2.7s\n",
      "175:\tlearn: 175.2422350\ttotal: 575ms\tremaining: 2.69s\n",
      "176:\tlearn: 174.6808865\ttotal: 578ms\tremaining: 2.69s\n",
      "177:\tlearn: 174.3236819\ttotal: 580ms\tremaining: 2.68s\n",
      "178:\tlearn: 173.9551823\ttotal: 583ms\tremaining: 2.67s\n",
      "179:\tlearn: 173.5532247\ttotal: 585ms\tremaining: 2.67s\n",
      "180:\tlearn: 172.9410703\ttotal: 588ms\tremaining: 2.66s\n",
      "181:\tlearn: 172.4361699\ttotal: 590ms\tremaining: 2.65s\n",
      "182:\tlearn: 171.8830225\ttotal: 593ms\tremaining: 2.65s\n",
      "183:\tlearn: 171.3802510\ttotal: 595ms\tremaining: 2.64s\n",
      "184:\tlearn: 170.8670709\ttotal: 598ms\tremaining: 2.63s\n",
      "185:\tlearn: 170.1882535\ttotal: 600ms\tremaining: 2.63s\n",
      "186:\tlearn: 169.8862820\ttotal: 603ms\tremaining: 2.62s\n",
      "187:\tlearn: 169.3525046\ttotal: 605ms\tremaining: 2.61s\n",
      "188:\tlearn: 168.9327977\ttotal: 608ms\tremaining: 2.61s\n",
      "189:\tlearn: 168.4985772\ttotal: 611ms\tremaining: 2.6s\n",
      "190:\tlearn: 167.7350527\ttotal: 613ms\tremaining: 2.6s\n",
      "191:\tlearn: 167.6381546\ttotal: 616ms\tremaining: 2.59s\n",
      "192:\tlearn: 167.2396061\ttotal: 618ms\tremaining: 2.58s\n",
      "193:\tlearn: 166.9533240\ttotal: 622ms\tremaining: 2.58s\n",
      "194:\tlearn: 166.6009227\ttotal: 624ms\tremaining: 2.58s\n",
      "195:\tlearn: 166.3682777\ttotal: 628ms\tremaining: 2.57s\n",
      "196:\tlearn: 165.8132119\ttotal: 630ms\tremaining: 2.57s\n",
      "197:\tlearn: 165.0622267\ttotal: 633ms\tremaining: 2.56s\n",
      "198:\tlearn: 164.6442244\ttotal: 636ms\tremaining: 2.56s\n",
      "199:\tlearn: 164.4462733\ttotal: 638ms\tremaining: 2.55s\n",
      "200:\tlearn: 164.0123670\ttotal: 640ms\tremaining: 2.54s\n",
      "201:\tlearn: 163.6647063\ttotal: 642ms\tremaining: 2.54s\n",
      "202:\tlearn: 163.2342245\ttotal: 644ms\tremaining: 2.53s\n",
      "203:\tlearn: 162.6589385\ttotal: 647ms\tremaining: 2.52s\n",
      "204:\tlearn: 162.1312135\ttotal: 649ms\tremaining: 2.52s\n",
      "205:\tlearn: 161.8982241\ttotal: 651ms\tremaining: 2.51s\n",
      "206:\tlearn: 161.6445409\ttotal: 654ms\tremaining: 2.5s\n",
      "207:\tlearn: 161.0812422\ttotal: 656ms\tremaining: 2.5s\n"
     ]
    },
    {
     "name": "stdout",
     "output_type": "stream",
     "text": [
      "208:\tlearn: 160.6439842\ttotal: 659ms\tremaining: 2.5s\n",
      "209:\tlearn: 160.2320246\ttotal: 662ms\tremaining: 2.49s\n",
      "210:\tlearn: 159.8568026\ttotal: 666ms\tremaining: 2.49s\n",
      "211:\tlearn: 159.4327919\ttotal: 668ms\tremaining: 2.48s\n",
      "212:\tlearn: 158.9691145\ttotal: 671ms\tremaining: 2.48s\n",
      "213:\tlearn: 158.5846708\ttotal: 673ms\tremaining: 2.47s\n",
      "214:\tlearn: 158.1629015\ttotal: 675ms\tremaining: 2.46s\n",
      "215:\tlearn: 157.9759183\ttotal: 677ms\tremaining: 2.46s\n",
      "216:\tlearn: 157.5712469\ttotal: 679ms\tremaining: 2.45s\n",
      "217:\tlearn: 157.1921131\ttotal: 681ms\tremaining: 2.44s\n",
      "218:\tlearn: 156.9185489\ttotal: 683ms\tremaining: 2.44s\n",
      "219:\tlearn: 156.5439598\ttotal: 685ms\tremaining: 2.43s\n",
      "220:\tlearn: 156.0722105\ttotal: 688ms\tremaining: 2.42s\n",
      "221:\tlearn: 155.6421181\ttotal: 690ms\tremaining: 2.42s\n",
      "222:\tlearn: 155.2831807\ttotal: 693ms\tremaining: 2.41s\n",
      "223:\tlearn: 154.9624114\ttotal: 695ms\tremaining: 2.41s\n",
      "224:\tlearn: 154.5218114\ttotal: 698ms\tremaining: 2.4s\n",
      "225:\tlearn: 154.1393771\ttotal: 701ms\tremaining: 2.4s\n",
      "226:\tlearn: 153.8180678\ttotal: 704ms\tremaining: 2.4s\n",
      "227:\tlearn: 153.7893106\ttotal: 706ms\tremaining: 2.39s\n",
      "228:\tlearn: 153.4636913\ttotal: 709ms\tremaining: 2.39s\n",
      "229:\tlearn: 153.1255073\ttotal: 711ms\tremaining: 2.38s\n",
      "230:\tlearn: 152.8051314\ttotal: 714ms\tremaining: 2.38s\n",
      "231:\tlearn: 152.4811442\ttotal: 717ms\tremaining: 2.37s\n",
      "232:\tlearn: 152.1241990\ttotal: 719ms\tremaining: 2.37s\n",
      "233:\tlearn: 151.9798468\ttotal: 722ms\tremaining: 2.36s\n",
      "234:\tlearn: 151.5442677\ttotal: 724ms\tremaining: 2.36s\n",
      "235:\tlearn: 151.0421888\ttotal: 727ms\tremaining: 2.35s\n",
      "236:\tlearn: 150.5643912\ttotal: 730ms\tremaining: 2.35s\n",
      "237:\tlearn: 150.1648990\ttotal: 732ms\tremaining: 2.34s\n",
      "238:\tlearn: 150.0414776\ttotal: 735ms\tremaining: 2.34s\n",
      "239:\tlearn: 149.8595329\ttotal: 737ms\tremaining: 2.33s\n",
      "240:\tlearn: 149.3884533\ttotal: 739ms\tremaining: 2.33s\n",
      "241:\tlearn: 149.1907073\ttotal: 742ms\tremaining: 2.32s\n",
      "242:\tlearn: 148.9311060\ttotal: 745ms\tremaining: 2.32s\n",
      "243:\tlearn: 148.6167625\ttotal: 747ms\tremaining: 2.31s\n",
      "244:\tlearn: 148.3843144\ttotal: 750ms\tremaining: 2.31s\n",
      "245:\tlearn: 148.0309370\ttotal: 752ms\tremaining: 2.31s\n",
      "246:\tlearn: 147.6427348\ttotal: 755ms\tremaining: 2.3s\n",
      "247:\tlearn: 147.4027394\ttotal: 757ms\tremaining: 2.29s\n",
      "248:\tlearn: 147.0455783\ttotal: 760ms\tremaining: 2.29s\n",
      "249:\tlearn: 146.7743819\ttotal: 762ms\tremaining: 2.29s\n",
      "250:\tlearn: 146.4185516\ttotal: 765ms\tremaining: 2.28s\n",
      "251:\tlearn: 146.1309517\ttotal: 767ms\tremaining: 2.28s\n",
      "252:\tlearn: 145.8577752\ttotal: 770ms\tremaining: 2.27s\n",
      "253:\tlearn: 145.5407913\ttotal: 772ms\tremaining: 2.27s\n",
      "254:\tlearn: 145.3355306\ttotal: 775ms\tremaining: 2.26s\n",
      "255:\tlearn: 145.0270886\ttotal: 777ms\tremaining: 2.26s\n",
      "256:\tlearn: 144.7756655\ttotal: 780ms\tremaining: 2.25s\n",
      "257:\tlearn: 144.4549540\ttotal: 782ms\tremaining: 2.25s\n",
      "258:\tlearn: 144.1932280\ttotal: 785ms\tremaining: 2.25s\n",
      "259:\tlearn: 143.9459451\ttotal: 788ms\tremaining: 2.24s\n",
      "260:\tlearn: 143.6943790\ttotal: 790ms\tremaining: 2.24s\n",
      "261:\tlearn: 143.3403371\ttotal: 793ms\tremaining: 2.23s\n",
      "262:\tlearn: 143.1117748\ttotal: 796ms\tremaining: 2.23s\n",
      "263:\tlearn: 142.7390406\ttotal: 799ms\tremaining: 2.23s\n",
      "264:\tlearn: 142.5365921\ttotal: 801ms\tremaining: 2.22s\n",
      "265:\tlearn: 142.3128870\ttotal: 804ms\tremaining: 2.22s\n",
      "266:\tlearn: 142.0065333\ttotal: 807ms\tremaining: 2.22s\n",
      "267:\tlearn: 141.5788058\ttotal: 810ms\tremaining: 2.21s\n",
      "268:\tlearn: 141.1834501\ttotal: 813ms\tremaining: 2.21s\n",
      "269:\tlearn: 140.9200921\ttotal: 816ms\tremaining: 2.21s\n",
      "270:\tlearn: 140.5949747\ttotal: 819ms\tremaining: 2.2s\n",
      "271:\tlearn: 140.2402618\ttotal: 822ms\tremaining: 2.2s\n",
      "272:\tlearn: 140.0946436\ttotal: 824ms\tremaining: 2.19s\n",
      "273:\tlearn: 139.8353926\ttotal: 827ms\tremaining: 2.19s\n",
      "274:\tlearn: 139.5036080\ttotal: 830ms\tremaining: 2.19s\n",
      "275:\tlearn: 139.3360865\ttotal: 832ms\tremaining: 2.18s\n",
      "276:\tlearn: 138.9890780\ttotal: 835ms\tremaining: 2.18s\n",
      "277:\tlearn: 138.6938831\ttotal: 838ms\tremaining: 2.18s\n",
      "278:\tlearn: 138.3284917\ttotal: 841ms\tremaining: 2.17s\n",
      "279:\tlearn: 138.0095740\ttotal: 843ms\tremaining: 2.17s\n",
      "280:\tlearn: 137.8693110\ttotal: 847ms\tremaining: 2.17s\n",
      "281:\tlearn: 137.5672770\ttotal: 849ms\tremaining: 2.16s\n",
      "282:\tlearn: 137.4011448\ttotal: 852ms\tremaining: 2.16s\n",
      "283:\tlearn: 137.2214919\ttotal: 854ms\tremaining: 2.15s\n",
      "284:\tlearn: 136.9369801\ttotal: 857ms\tremaining: 2.15s\n",
      "285:\tlearn: 136.7205004\ttotal: 859ms\tremaining: 2.14s\n",
      "286:\tlearn: 136.5297059\ttotal: 862ms\tremaining: 2.14s\n",
      "287:\tlearn: 136.3253541\ttotal: 865ms\tremaining: 2.14s\n",
      "288:\tlearn: 136.2094842\ttotal: 868ms\tremaining: 2.13s\n",
      "289:\tlearn: 135.8980267\ttotal: 870ms\tremaining: 2.13s\n",
      "290:\tlearn: 135.7466609\ttotal: 873ms\tremaining: 2.13s\n",
      "291:\tlearn: 135.5703150\ttotal: 876ms\tremaining: 2.12s\n",
      "292:\tlearn: 135.2609312\ttotal: 878ms\tremaining: 2.12s\n",
      "293:\tlearn: 134.9458551\ttotal: 881ms\tremaining: 2.11s\n",
      "294:\tlearn: 134.6692517\ttotal: 883ms\tremaining: 2.11s\n",
      "295:\tlearn: 134.3848987\ttotal: 886ms\tremaining: 2.11s\n",
      "296:\tlearn: 134.1192912\ttotal: 888ms\tremaining: 2.1s\n",
      "297:\tlearn: 133.7968578\ttotal: 891ms\tremaining: 2.1s\n",
      "298:\tlearn: 133.5308805\ttotal: 893ms\tremaining: 2.09s\n",
      "299:\tlearn: 133.2937540\ttotal: 896ms\tremaining: 2.09s\n",
      "300:\tlearn: 133.0485709\ttotal: 898ms\tremaining: 2.08s\n",
      "301:\tlearn: 132.7688704\ttotal: 901ms\tremaining: 2.08s\n",
      "302:\tlearn: 132.4884429\ttotal: 903ms\tremaining: 2.08s\n",
      "303:\tlearn: 132.2259968\ttotal: 906ms\tremaining: 2.07s\n",
      "304:\tlearn: 131.9408904\ttotal: 908ms\tremaining: 2.07s\n",
      "305:\tlearn: 131.7952111\ttotal: 911ms\tremaining: 2.06s\n",
      "306:\tlearn: 131.5692062\ttotal: 913ms\tremaining: 2.06s\n",
      "307:\tlearn: 131.2789542\ttotal: 915ms\tremaining: 2.06s\n",
      "308:\tlearn: 131.1777824\ttotal: 918ms\tremaining: 2.05s\n",
      "309:\tlearn: 130.8980538\ttotal: 920ms\tremaining: 2.05s\n",
      "310:\tlearn: 130.7436865\ttotal: 923ms\tremaining: 2.04s\n",
      "311:\tlearn: 130.5651626\ttotal: 925ms\tremaining: 2.04s\n",
      "312:\tlearn: 130.3401962\ttotal: 928ms\tremaining: 2.04s\n",
      "313:\tlearn: 130.1245175\ttotal: 931ms\tremaining: 2.03s\n",
      "314:\tlearn: 129.8591060\ttotal: 934ms\tremaining: 2.03s\n",
      "315:\tlearn: 129.5739067\ttotal: 936ms\tremaining: 2.03s\n",
      "316:\tlearn: 129.2899038\ttotal: 939ms\tremaining: 2.02s\n",
      "317:\tlearn: 129.0300786\ttotal: 941ms\tremaining: 2.02s\n",
      "318:\tlearn: 128.9107229\ttotal: 944ms\tremaining: 2.01s\n",
      "319:\tlearn: 128.7863593\ttotal: 946ms\tremaining: 2.01s\n",
      "320:\tlearn: 128.6707975\ttotal: 949ms\tremaining: 2.01s\n",
      "321:\tlearn: 128.4365782\ttotal: 951ms\tremaining: 2s\n",
      "322:\tlearn: 128.1354731\ttotal: 954ms\tremaining: 2s\n",
      "323:\tlearn: 127.9770579\ttotal: 956ms\tremaining: 2s\n",
      "324:\tlearn: 127.8324047\ttotal: 960ms\tremaining: 1.99s\n",
      "325:\tlearn: 127.6045178\ttotal: 962ms\tremaining: 1.99s\n",
      "326:\tlearn: 127.3653976\ttotal: 965ms\tremaining: 1.99s\n",
      "327:\tlearn: 127.2296798\ttotal: 967ms\tremaining: 1.98s\n",
      "328:\tlearn: 127.1023360\ttotal: 970ms\tremaining: 1.98s\n",
      "329:\tlearn: 126.8645397\ttotal: 973ms\tremaining: 1.98s\n",
      "330:\tlearn: 126.7053787\ttotal: 975ms\tremaining: 1.97s\n",
      "331:\tlearn: 126.5104053\ttotal: 978ms\tremaining: 1.97s\n",
      "332:\tlearn: 126.3703493\ttotal: 980ms\tremaining: 1.96s\n",
      "333:\tlearn: 126.1632506\ttotal: 983ms\tremaining: 1.96s\n",
      "334:\tlearn: 125.9090808\ttotal: 985ms\tremaining: 1.96s\n",
      "335:\tlearn: 125.7868961\ttotal: 988ms\tremaining: 1.95s\n",
      "336:\tlearn: 125.6330617\ttotal: 991ms\tremaining: 1.95s\n",
      "337:\tlearn: 125.5212425\ttotal: 993ms\tremaining: 1.95s\n",
      "338:\tlearn: 125.3111409\ttotal: 996ms\tremaining: 1.94s\n",
      "339:\tlearn: 125.0284431\ttotal: 999ms\tremaining: 1.94s\n",
      "340:\tlearn: 124.8574573\ttotal: 1s\tremaining: 1.93s\n",
      "341:\tlearn: 124.6862948\ttotal: 1s\tremaining: 1.93s\n",
      "342:\tlearn: 124.5855331\ttotal: 1s\tremaining: 1.93s\n",
      "343:\tlearn: 124.4885496\ttotal: 1.01s\tremaining: 1.92s\n",
      "344:\tlearn: 124.3885491\ttotal: 1.01s\tremaining: 1.92s\n",
      "345:\tlearn: 124.1797797\ttotal: 1.01s\tremaining: 1.92s\n",
      "346:\tlearn: 124.0091736\ttotal: 1.01s\tremaining: 1.91s\n",
      "347:\tlearn: 123.8573657\ttotal: 1.02s\tremaining: 1.91s\n",
      "348:\tlearn: 123.7194799\ttotal: 1.02s\tremaining: 1.9s\n",
      "349:\tlearn: 123.4294513\ttotal: 1.02s\tremaining: 1.9s\n",
      "350:\tlearn: 123.2697040\ttotal: 1.03s\tremaining: 1.9s\n",
      "351:\tlearn: 123.1420074\ttotal: 1.03s\tremaining: 1.89s\n",
      "352:\tlearn: 122.9946592\ttotal: 1.03s\tremaining: 1.89s\n",
      "353:\tlearn: 122.8874981\ttotal: 1.03s\tremaining: 1.89s\n",
      "354:\tlearn: 122.6217906\ttotal: 1.04s\tremaining: 1.89s\n",
      "355:\tlearn: 122.5210438\ttotal: 1.04s\tremaining: 1.88s\n",
      "356:\tlearn: 122.4074834\ttotal: 1.04s\tremaining: 1.88s\n",
      "357:\tlearn: 122.2348718\ttotal: 1.05s\tremaining: 1.88s\n",
      "358:\tlearn: 122.0310487\ttotal: 1.05s\tremaining: 1.87s\n",
      "359:\tlearn: 121.8187766\ttotal: 1.05s\tremaining: 1.87s\n",
      "360:\tlearn: 121.6718051\ttotal: 1.05s\tremaining: 1.86s\n",
      "361:\tlearn: 121.5080163\ttotal: 1.06s\tremaining: 1.86s\n",
      "362:\tlearn: 121.3689107\ttotal: 1.06s\tremaining: 1.86s\n",
      "363:\tlearn: 121.1617973\ttotal: 1.06s\tremaining: 1.85s\n",
      "364:\tlearn: 121.0371780\ttotal: 1.06s\tremaining: 1.85s\n",
      "365:\tlearn: 120.8650535\ttotal: 1.07s\tremaining: 1.85s\n",
      "366:\tlearn: 120.6098903\ttotal: 1.07s\tremaining: 1.84s\n",
      "367:\tlearn: 120.4260197\ttotal: 1.07s\tremaining: 1.84s\n",
      "368:\tlearn: 120.3178794\ttotal: 1.07s\tremaining: 1.84s\n",
      "369:\tlearn: 120.2658985\ttotal: 1.08s\tremaining: 1.83s\n",
      "370:\tlearn: 120.1473227\ttotal: 1.08s\tremaining: 1.83s\n",
      "371:\tlearn: 120.0082548\ttotal: 1.08s\tremaining: 1.82s\n",
      "372:\tlearn: 119.8436893\ttotal: 1.08s\tremaining: 1.82s\n",
      "373:\tlearn: 119.6804105\ttotal: 1.09s\tremaining: 1.82s\n",
      "374:\tlearn: 119.5942280\ttotal: 1.09s\tremaining: 1.81s\n",
      "375:\tlearn: 119.4595848\ttotal: 1.09s\tremaining: 1.81s\n",
      "376:\tlearn: 119.3611999\ttotal: 1.09s\tremaining: 1.81s\n",
      "377:\tlearn: 119.2753702\ttotal: 1.1s\tremaining: 1.8s\n",
      "378:\tlearn: 119.0761643\ttotal: 1.1s\tremaining: 1.8s\n",
      "379:\tlearn: 118.9574135\ttotal: 1.1s\tremaining: 1.8s\n",
      "380:\tlearn: 118.7909515\ttotal: 1.1s\tremaining: 1.79s\n",
      "381:\tlearn: 118.7098148\ttotal: 1.11s\tremaining: 1.79s\n",
      "382:\tlearn: 118.6282272\ttotal: 1.11s\tremaining: 1.78s\n",
      "383:\tlearn: 118.4491955\ttotal: 1.11s\tremaining: 1.78s\n",
      "384:\tlearn: 118.2891749\ttotal: 1.11s\tremaining: 1.78s\n",
      "385:\tlearn: 118.2069556\ttotal: 1.11s\tremaining: 1.77s\n"
     ]
    },
    {
     "name": "stdout",
     "output_type": "stream",
     "text": [
      "386:\tlearn: 118.0493489\ttotal: 1.12s\tremaining: 1.77s\n",
      "387:\tlearn: 117.9798844\ttotal: 1.12s\tremaining: 1.77s\n",
      "388:\tlearn: 117.9327821\ttotal: 1.12s\tremaining: 1.77s\n",
      "389:\tlearn: 117.7352141\ttotal: 1.13s\tremaining: 1.76s\n",
      "390:\tlearn: 117.6678217\ttotal: 1.13s\tremaining: 1.76s\n",
      "391:\tlearn: 117.6046242\ttotal: 1.13s\tremaining: 1.75s\n",
      "392:\tlearn: 117.5240381\ttotal: 1.13s\tremaining: 1.75s\n",
      "393:\tlearn: 117.4017411\ttotal: 1.14s\tremaining: 1.75s\n",
      "394:\tlearn: 117.2282044\ttotal: 1.14s\tremaining: 1.75s\n",
      "395:\tlearn: 117.0730939\ttotal: 1.14s\tremaining: 1.74s\n",
      "396:\tlearn: 116.9878501\ttotal: 1.14s\tremaining: 1.74s\n",
      "397:\tlearn: 116.8866090\ttotal: 1.15s\tremaining: 1.73s\n",
      "398:\tlearn: 116.8279564\ttotal: 1.15s\tremaining: 1.73s\n",
      "399:\tlearn: 116.6565866\ttotal: 1.15s\tremaining: 1.72s\n",
      "400:\tlearn: 116.5521381\ttotal: 1.15s\tremaining: 1.72s\n",
      "401:\tlearn: 116.3364165\ttotal: 1.15s\tremaining: 1.72s\n",
      "402:\tlearn: 116.2507973\ttotal: 1.16s\tremaining: 1.71s\n",
      "403:\tlearn: 116.1378987\ttotal: 1.16s\tremaining: 1.71s\n",
      "404:\tlearn: 115.9392539\ttotal: 1.16s\tremaining: 1.71s\n",
      "405:\tlearn: 115.8362344\ttotal: 1.16s\tremaining: 1.7s\n",
      "406:\tlearn: 115.6347545\ttotal: 1.17s\tremaining: 1.7s\n",
      "407:\tlearn: 115.4132457\ttotal: 1.17s\tremaining: 1.7s\n",
      "408:\tlearn: 115.3237401\ttotal: 1.17s\tremaining: 1.7s\n",
      "409:\tlearn: 115.2527716\ttotal: 1.18s\tremaining: 1.69s\n",
      "410:\tlearn: 115.0973261\ttotal: 1.18s\tremaining: 1.69s\n",
      "411:\tlearn: 115.0002138\ttotal: 1.18s\tremaining: 1.69s\n",
      "412:\tlearn: 114.8768034\ttotal: 1.18s\tremaining: 1.68s\n",
      "413:\tlearn: 114.7881265\ttotal: 1.19s\tremaining: 1.68s\n",
      "414:\tlearn: 114.6150468\ttotal: 1.19s\tremaining: 1.68s\n",
      "415:\tlearn: 114.4461610\ttotal: 1.19s\tremaining: 1.67s\n",
      "416:\tlearn: 114.2957169\ttotal: 1.19s\tremaining: 1.67s\n",
      "417:\tlearn: 114.1116046\ttotal: 1.2s\tremaining: 1.67s\n",
      "418:\tlearn: 113.9353211\ttotal: 1.2s\tremaining: 1.66s\n",
      "419:\tlearn: 113.7634626\ttotal: 1.2s\tremaining: 1.66s\n",
      "420:\tlearn: 113.6314695\ttotal: 1.2s\tremaining: 1.66s\n",
      "421:\tlearn: 113.5031682\ttotal: 1.21s\tremaining: 1.65s\n",
      "422:\tlearn: 113.3623169\ttotal: 1.21s\tremaining: 1.65s\n",
      "423:\tlearn: 113.2284516\ttotal: 1.21s\tremaining: 1.65s\n",
      "424:\tlearn: 113.0649401\ttotal: 1.22s\tremaining: 1.64s\n",
      "425:\tlearn: 112.8785279\ttotal: 1.22s\tremaining: 1.64s\n",
      "426:\tlearn: 112.7439889\ttotal: 1.22s\tremaining: 1.64s\n",
      "427:\tlearn: 112.5873322\ttotal: 1.22s\tremaining: 1.63s\n",
      "428:\tlearn: 112.4664194\ttotal: 1.23s\tremaining: 1.63s\n",
      "429:\tlearn: 112.3250297\ttotal: 1.23s\tremaining: 1.63s\n",
      "430:\tlearn: 112.3093311\ttotal: 1.23s\tremaining: 1.62s\n",
      "431:\tlearn: 112.1786873\ttotal: 1.23s\tremaining: 1.62s\n",
      "432:\tlearn: 112.0416285\ttotal: 1.23s\tremaining: 1.62s\n",
      "433:\tlearn: 111.8359766\ttotal: 1.24s\tremaining: 1.61s\n",
      "434:\tlearn: 111.6308584\ttotal: 1.24s\tremaining: 1.61s\n",
      "435:\tlearn: 111.5106489\ttotal: 1.24s\tremaining: 1.61s\n",
      "436:\tlearn: 111.4209311\ttotal: 1.24s\tremaining: 1.6s\n",
      "437:\tlearn: 111.3085731\ttotal: 1.25s\tremaining: 1.6s\n",
      "438:\tlearn: 111.2319840\ttotal: 1.25s\tremaining: 1.6s\n",
      "439:\tlearn: 111.0837776\ttotal: 1.25s\tremaining: 1.59s\n",
      "440:\tlearn: 111.0179810\ttotal: 1.26s\tremaining: 1.59s\n",
      "441:\tlearn: 110.8593343\ttotal: 1.26s\tremaining: 1.59s\n",
      "442:\tlearn: 110.7102471\ttotal: 1.26s\tremaining: 1.59s\n",
      "443:\tlearn: 110.6079333\ttotal: 1.26s\tremaining: 1.58s\n",
      "444:\tlearn: 110.5194547\ttotal: 1.27s\tremaining: 1.58s\n",
      "445:\tlearn: 110.3613567\ttotal: 1.27s\tremaining: 1.58s\n",
      "446:\tlearn: 110.2489391\ttotal: 1.27s\tremaining: 1.57s\n",
      "447:\tlearn: 110.1645451\ttotal: 1.28s\tremaining: 1.57s\n",
      "448:\tlearn: 110.0660791\ttotal: 1.28s\tremaining: 1.57s\n",
      "449:\tlearn: 109.9120271\ttotal: 1.28s\tremaining: 1.56s\n",
      "450:\tlearn: 109.7847085\ttotal: 1.28s\tremaining: 1.56s\n",
      "451:\tlearn: 109.6923092\ttotal: 1.29s\tremaining: 1.56s\n",
      "452:\tlearn: 109.6317541\ttotal: 1.29s\tremaining: 1.56s\n",
      "453:\tlearn: 109.4786411\ttotal: 1.29s\tremaining: 1.55s\n",
      "454:\tlearn: 109.3633467\ttotal: 1.29s\tremaining: 1.55s\n",
      "455:\tlearn: 109.2325023\ttotal: 1.3s\tremaining: 1.55s\n",
      "456:\tlearn: 109.0744469\ttotal: 1.3s\tremaining: 1.54s\n",
      "457:\tlearn: 108.9970572\ttotal: 1.3s\tremaining: 1.54s\n",
      "458:\tlearn: 108.8634644\ttotal: 1.31s\tremaining: 1.54s\n",
      "459:\tlearn: 108.7017893\ttotal: 1.31s\tremaining: 1.54s\n",
      "460:\tlearn: 108.5781569\ttotal: 1.31s\tremaining: 1.53s\n",
      "461:\tlearn: 108.4732176\ttotal: 1.31s\tremaining: 1.53s\n",
      "462:\tlearn: 108.3702800\ttotal: 1.32s\tremaining: 1.53s\n",
      "463:\tlearn: 108.3256758\ttotal: 1.32s\tremaining: 1.52s\n",
      "464:\tlearn: 108.2201564\ttotal: 1.32s\tremaining: 1.52s\n",
      "465:\tlearn: 107.9543733\ttotal: 1.32s\tremaining: 1.52s\n",
      "466:\tlearn: 107.8760547\ttotal: 1.33s\tremaining: 1.51s\n",
      "467:\tlearn: 107.7665368\ttotal: 1.33s\tremaining: 1.51s\n",
      "468:\tlearn: 107.6733263\ttotal: 1.33s\tremaining: 1.51s\n",
      "469:\tlearn: 107.5048471\ttotal: 1.33s\tremaining: 1.5s\n",
      "470:\tlearn: 107.4021286\ttotal: 1.34s\tremaining: 1.5s\n",
      "471:\tlearn: 107.2640489\ttotal: 1.34s\tremaining: 1.5s\n",
      "472:\tlearn: 107.1998093\ttotal: 1.34s\tremaining: 1.49s\n",
      "473:\tlearn: 107.0696781\ttotal: 1.34s\tremaining: 1.49s\n",
      "474:\tlearn: 106.9939261\ttotal: 1.35s\tremaining: 1.49s\n",
      "475:\tlearn: 106.7976095\ttotal: 1.35s\tremaining: 1.49s\n",
      "476:\tlearn: 106.6591656\ttotal: 1.35s\tremaining: 1.48s\n",
      "477:\tlearn: 106.5523414\ttotal: 1.35s\tremaining: 1.48s\n",
      "478:\tlearn: 106.4669185\ttotal: 1.36s\tremaining: 1.48s\n",
      "479:\tlearn: 106.3822423\ttotal: 1.36s\tremaining: 1.47s\n",
      "480:\tlearn: 106.2497567\ttotal: 1.36s\tremaining: 1.47s\n",
      "481:\tlearn: 106.2322678\ttotal: 1.36s\tremaining: 1.47s\n",
      "482:\tlearn: 106.1198124\ttotal: 1.37s\tremaining: 1.46s\n",
      "483:\tlearn: 106.0263469\ttotal: 1.37s\tremaining: 1.46s\n",
      "484:\tlearn: 105.9541265\ttotal: 1.37s\tremaining: 1.46s\n",
      "485:\tlearn: 105.8885036\ttotal: 1.37s\tremaining: 1.45s\n",
      "486:\tlearn: 105.7488899\ttotal: 1.38s\tremaining: 1.45s\n",
      "487:\tlearn: 105.6945022\ttotal: 1.38s\tremaining: 1.45s\n",
      "488:\tlearn: 105.5594546\ttotal: 1.38s\tremaining: 1.44s\n",
      "489:\tlearn: 105.5496398\ttotal: 1.38s\tremaining: 1.44s\n",
      "490:\tlearn: 105.4417211\ttotal: 1.39s\tremaining: 1.44s\n",
      "491:\tlearn: 105.3537323\ttotal: 1.39s\tremaining: 1.43s\n",
      "492:\tlearn: 105.2347595\ttotal: 1.39s\tremaining: 1.43s\n",
      "493:\tlearn: 105.0788533\ttotal: 1.39s\tremaining: 1.43s\n",
      "494:\tlearn: 104.9442605\ttotal: 1.4s\tremaining: 1.42s\n",
      "495:\tlearn: 104.8108714\ttotal: 1.4s\tremaining: 1.42s\n",
      "496:\tlearn: 104.7390174\ttotal: 1.4s\tremaining: 1.42s\n",
      "497:\tlearn: 104.6378007\ttotal: 1.4s\tremaining: 1.41s\n",
      "498:\tlearn: 104.6200588\ttotal: 1.4s\tremaining: 1.41s\n",
      "499:\tlearn: 104.5641991\ttotal: 1.41s\tremaining: 1.41s\n",
      "500:\tlearn: 104.5039106\ttotal: 1.41s\tremaining: 1.4s\n",
      "501:\tlearn: 104.4254750\ttotal: 1.41s\tremaining: 1.4s\n",
      "502:\tlearn: 104.3701260\ttotal: 1.41s\tremaining: 1.4s\n",
      "503:\tlearn: 104.3035443\ttotal: 1.42s\tremaining: 1.39s\n",
      "504:\tlearn: 104.2386449\ttotal: 1.42s\tremaining: 1.39s\n",
      "505:\tlearn: 104.1147119\ttotal: 1.42s\tremaining: 1.39s\n",
      "506:\tlearn: 104.0284942\ttotal: 1.42s\tremaining: 1.38s\n",
      "507:\tlearn: 103.9209648\ttotal: 1.43s\tremaining: 1.38s\n",
      "508:\tlearn: 103.8241370\ttotal: 1.43s\tremaining: 1.38s\n",
      "509:\tlearn: 103.7712358\ttotal: 1.43s\tremaining: 1.38s\n",
      "510:\tlearn: 103.7530879\ttotal: 1.43s\tremaining: 1.37s\n",
      "511:\tlearn: 103.7075996\ttotal: 1.44s\tremaining: 1.37s\n",
      "512:\tlearn: 103.5935493\ttotal: 1.44s\tremaining: 1.37s\n",
      "513:\tlearn: 103.5494054\ttotal: 1.44s\tremaining: 1.36s\n",
      "514:\tlearn: 103.4205001\ttotal: 1.45s\tremaining: 1.36s\n",
      "515:\tlearn: 103.3213917\ttotal: 1.45s\tremaining: 1.36s\n",
      "516:\tlearn: 103.2193941\ttotal: 1.45s\tremaining: 1.35s\n",
      "517:\tlearn: 103.1053669\ttotal: 1.45s\tremaining: 1.35s\n",
      "518:\tlearn: 103.0184449\ttotal: 1.46s\tremaining: 1.35s\n",
      "519:\tlearn: 102.8929896\ttotal: 1.46s\tremaining: 1.35s\n",
      "520:\tlearn: 102.8335913\ttotal: 1.46s\tremaining: 1.34s\n",
      "521:\tlearn: 102.6705412\ttotal: 1.46s\tremaining: 1.34s\n",
      "522:\tlearn: 102.6208859\ttotal: 1.47s\tremaining: 1.34s\n",
      "523:\tlearn: 102.5432637\ttotal: 1.47s\tremaining: 1.33s\n",
      "524:\tlearn: 102.5317561\ttotal: 1.47s\tremaining: 1.33s\n",
      "525:\tlearn: 102.4302086\ttotal: 1.47s\tremaining: 1.33s\n",
      "526:\tlearn: 102.3279410\ttotal: 1.48s\tremaining: 1.32s\n",
      "527:\tlearn: 102.1779358\ttotal: 1.48s\tremaining: 1.32s\n",
      "528:\tlearn: 102.1437158\ttotal: 1.48s\tremaining: 1.32s\n",
      "529:\tlearn: 102.0139505\ttotal: 1.48s\tremaining: 1.31s\n",
      "530:\tlearn: 101.8500243\ttotal: 1.48s\tremaining: 1.31s\n",
      "531:\tlearn: 101.7564210\ttotal: 1.49s\tremaining: 1.31s\n",
      "532:\tlearn: 101.6764475\ttotal: 1.49s\tremaining: 1.3s\n",
      "533:\tlearn: 101.5563871\ttotal: 1.49s\tremaining: 1.3s\n",
      "534:\tlearn: 101.4305282\ttotal: 1.49s\tremaining: 1.3s\n",
      "535:\tlearn: 101.3700304\ttotal: 1.5s\tremaining: 1.3s\n",
      "536:\tlearn: 101.3167407\ttotal: 1.5s\tremaining: 1.29s\n",
      "537:\tlearn: 101.2189681\ttotal: 1.5s\tremaining: 1.29s\n",
      "538:\tlearn: 101.0687505\ttotal: 1.5s\tremaining: 1.29s\n",
      "539:\tlearn: 100.9649465\ttotal: 1.51s\tremaining: 1.28s\n",
      "540:\tlearn: 100.8398214\ttotal: 1.51s\tremaining: 1.28s\n",
      "541:\tlearn: 100.7098238\ttotal: 1.51s\tremaining: 1.28s\n",
      "542:\tlearn: 100.6097035\ttotal: 1.51s\tremaining: 1.27s\n",
      "543:\tlearn: 100.5509861\ttotal: 1.52s\tremaining: 1.27s\n",
      "544:\tlearn: 100.3867137\ttotal: 1.52s\tremaining: 1.27s\n",
      "545:\tlearn: 100.2756364\ttotal: 1.52s\tremaining: 1.26s\n",
      "546:\tlearn: 100.1491012\ttotal: 1.52s\tremaining: 1.26s\n",
      "547:\tlearn: 100.0895266\ttotal: 1.53s\tremaining: 1.26s\n",
      "548:\tlearn: 100.0157641\ttotal: 1.53s\tremaining: 1.26s\n",
      "549:\tlearn: 99.8924177\ttotal: 1.53s\tremaining: 1.25s\n",
      "550:\tlearn: 99.8788797\ttotal: 1.53s\tremaining: 1.25s\n",
      "551:\tlearn: 99.7539141\ttotal: 1.54s\tremaining: 1.25s\n",
      "552:\tlearn: 99.6928110\ttotal: 1.54s\tremaining: 1.24s\n",
      "553:\tlearn: 99.6220483\ttotal: 1.54s\tremaining: 1.24s\n",
      "554:\tlearn: 99.4953949\ttotal: 1.54s\tremaining: 1.24s\n",
      "555:\tlearn: 99.4332364\ttotal: 1.55s\tremaining: 1.23s\n",
      "556:\tlearn: 99.3469871\ttotal: 1.55s\tremaining: 1.23s\n",
      "557:\tlearn: 99.2356410\ttotal: 1.55s\tremaining: 1.23s\n",
      "558:\tlearn: 99.1313718\ttotal: 1.55s\tremaining: 1.23s\n",
      "559:\tlearn: 99.0456008\ttotal: 1.56s\tremaining: 1.22s\n",
      "560:\tlearn: 98.9584137\ttotal: 1.56s\tremaining: 1.22s\n",
      "561:\tlearn: 98.8687631\ttotal: 1.56s\tremaining: 1.22s\n",
      "562:\tlearn: 98.7920226\ttotal: 1.56s\tremaining: 1.21s\n",
      "563:\tlearn: 98.6809971\ttotal: 1.57s\tremaining: 1.21s\n",
      "564:\tlearn: 98.5991635\ttotal: 1.57s\tremaining: 1.21s\n",
      "565:\tlearn: 98.5425424\ttotal: 1.57s\tremaining: 1.2s\n",
      "566:\tlearn: 98.4082796\ttotal: 1.57s\tremaining: 1.2s\n"
     ]
    },
    {
     "name": "stdout",
     "output_type": "stream",
     "text": [
      "567:\tlearn: 98.3238288\ttotal: 1.58s\tremaining: 1.2s\n",
      "568:\tlearn: 98.2896761\ttotal: 1.58s\tremaining: 1.2s\n",
      "569:\tlearn: 98.1730260\ttotal: 1.58s\tremaining: 1.19s\n",
      "570:\tlearn: 98.1650404\ttotal: 1.58s\tremaining: 1.19s\n",
      "571:\tlearn: 98.1221817\ttotal: 1.58s\tremaining: 1.19s\n",
      "572:\tlearn: 98.0060669\ttotal: 1.59s\tremaining: 1.18s\n",
      "573:\tlearn: 97.8412970\ttotal: 1.59s\tremaining: 1.18s\n",
      "574:\tlearn: 97.7233732\ttotal: 1.59s\tremaining: 1.18s\n",
      "575:\tlearn: 97.6102497\ttotal: 1.6s\tremaining: 1.17s\n",
      "576:\tlearn: 97.5486799\ttotal: 1.6s\tremaining: 1.17s\n",
      "577:\tlearn: 97.4396496\ttotal: 1.6s\tremaining: 1.17s\n",
      "578:\tlearn: 97.2919513\ttotal: 1.6s\tremaining: 1.17s\n",
      "579:\tlearn: 97.2449499\ttotal: 1.61s\tremaining: 1.16s\n",
      "580:\tlearn: 97.0801476\ttotal: 1.61s\tremaining: 1.16s\n",
      "581:\tlearn: 96.9543646\ttotal: 1.61s\tremaining: 1.16s\n",
      "582:\tlearn: 96.8355627\ttotal: 1.61s\tremaining: 1.15s\n",
      "583:\tlearn: 96.6897978\ttotal: 1.62s\tremaining: 1.15s\n",
      "584:\tlearn: 96.6074079\ttotal: 1.62s\tremaining: 1.15s\n",
      "585:\tlearn: 96.5943391\ttotal: 1.62s\tremaining: 1.15s\n",
      "586:\tlearn: 96.4807958\ttotal: 1.62s\tremaining: 1.14s\n",
      "587:\tlearn: 96.4104912\ttotal: 1.63s\tremaining: 1.14s\n",
      "588:\tlearn: 96.3507267\ttotal: 1.63s\tremaining: 1.14s\n",
      "589:\tlearn: 96.2633772\ttotal: 1.63s\tremaining: 1.13s\n",
      "590:\tlearn: 96.1890226\ttotal: 1.63s\tremaining: 1.13s\n",
      "591:\tlearn: 96.0638302\ttotal: 1.64s\tremaining: 1.13s\n",
      "592:\tlearn: 96.0041518\ttotal: 1.64s\tremaining: 1.13s\n",
      "593:\tlearn: 95.9277211\ttotal: 1.64s\tremaining: 1.12s\n",
      "594:\tlearn: 95.8593906\ttotal: 1.65s\tremaining: 1.12s\n",
      "595:\tlearn: 95.8048626\ttotal: 1.65s\tremaining: 1.12s\n",
      "596:\tlearn: 95.7071013\ttotal: 1.65s\tremaining: 1.11s\n",
      "597:\tlearn: 95.6510931\ttotal: 1.65s\tremaining: 1.11s\n",
      "598:\tlearn: 95.6171118\ttotal: 1.66s\tremaining: 1.11s\n",
      "599:\tlearn: 95.5503031\ttotal: 1.66s\tremaining: 1.1s\n",
      "600:\tlearn: 95.4335247\ttotal: 1.66s\tremaining: 1.1s\n",
      "601:\tlearn: 95.3031212\ttotal: 1.66s\tremaining: 1.1s\n",
      "602:\tlearn: 95.2763919\ttotal: 1.67s\tremaining: 1.1s\n",
      "603:\tlearn: 95.2042024\ttotal: 1.67s\tremaining: 1.09s\n",
      "604:\tlearn: 95.1131674\ttotal: 1.67s\tremaining: 1.09s\n",
      "605:\tlearn: 95.0133896\ttotal: 1.67s\tremaining: 1.09s\n",
      "606:\tlearn: 94.9113796\ttotal: 1.68s\tremaining: 1.08s\n",
      "607:\tlearn: 94.8334403\ttotal: 1.68s\tremaining: 1.08s\n",
      "608:\tlearn: 94.7606972\ttotal: 1.68s\tremaining: 1.08s\n",
      "609:\tlearn: 94.6521067\ttotal: 1.68s\tremaining: 1.08s\n",
      "610:\tlearn: 94.5089043\ttotal: 1.69s\tremaining: 1.07s\n",
      "611:\tlearn: 94.3922180\ttotal: 1.69s\tremaining: 1.07s\n",
      "612:\tlearn: 94.3838931\ttotal: 1.69s\tremaining: 1.07s\n",
      "613:\tlearn: 94.3320887\ttotal: 1.69s\tremaining: 1.06s\n",
      "614:\tlearn: 94.2625060\ttotal: 1.7s\tremaining: 1.06s\n",
      "615:\tlearn: 94.2067187\ttotal: 1.7s\tremaining: 1.06s\n",
      "616:\tlearn: 94.1305946\ttotal: 1.7s\tremaining: 1.06s\n",
      "617:\tlearn: 94.0278710\ttotal: 1.7s\tremaining: 1.05s\n",
      "618:\tlearn: 93.9598122\ttotal: 1.71s\tremaining: 1.05s\n",
      "619:\tlearn: 93.8757516\ttotal: 1.71s\tremaining: 1.05s\n",
      "620:\tlearn: 93.7231206\ttotal: 1.71s\tremaining: 1.04s\n",
      "621:\tlearn: 93.6518823\ttotal: 1.72s\tremaining: 1.04s\n",
      "622:\tlearn: 93.5864774\ttotal: 1.72s\tremaining: 1.04s\n",
      "623:\tlearn: 93.5087069\ttotal: 1.72s\tremaining: 1.04s\n",
      "624:\tlearn: 93.4534217\ttotal: 1.72s\tremaining: 1.03s\n",
      "625:\tlearn: 93.3724953\ttotal: 1.73s\tremaining: 1.03s\n",
      "626:\tlearn: 93.2250508\ttotal: 1.73s\tremaining: 1.03s\n",
      "627:\tlearn: 93.1851595\ttotal: 1.73s\tremaining: 1.02s\n",
      "628:\tlearn: 93.1248063\ttotal: 1.73s\tremaining: 1.02s\n",
      "629:\tlearn: 93.0789574\ttotal: 1.74s\tremaining: 1.02s\n",
      "630:\tlearn: 93.0411251\ttotal: 1.74s\tremaining: 1.02s\n",
      "631:\tlearn: 93.0054795\ttotal: 1.74s\tremaining: 1.01s\n",
      "632:\tlearn: 92.8990371\ttotal: 1.75s\tremaining: 1.01s\n",
      "633:\tlearn: 92.8196500\ttotal: 1.75s\tremaining: 1.01s\n",
      "634:\tlearn: 92.7259765\ttotal: 1.75s\tremaining: 1.01s\n",
      "635:\tlearn: 92.6736321\ttotal: 1.75s\tremaining: 1s\n",
      "636:\tlearn: 92.5714667\ttotal: 1.75s\tremaining: 1s\n",
      "637:\tlearn: 92.5432352\ttotal: 1.76s\tremaining: 998ms\n",
      "638:\tlearn: 92.4654116\ttotal: 1.76s\tremaining: 995ms\n",
      "639:\tlearn: 92.3889168\ttotal: 1.76s\tremaining: 992ms\n",
      "640:\tlearn: 92.2913830\ttotal: 1.76s\tremaining: 989ms\n",
      "641:\tlearn: 92.2527087\ttotal: 1.77s\tremaining: 986ms\n",
      "642:\tlearn: 92.1660312\ttotal: 1.77s\tremaining: 983ms\n",
      "643:\tlearn: 92.0766763\ttotal: 1.77s\tremaining: 980ms\n",
      "644:\tlearn: 92.0100703\ttotal: 1.78s\tremaining: 978ms\n",
      "645:\tlearn: 91.9541479\ttotal: 1.78s\tremaining: 975ms\n",
      "646:\tlearn: 91.8650697\ttotal: 1.78s\tremaining: 972ms\n",
      "647:\tlearn: 91.8168079\ttotal: 1.78s\tremaining: 969ms\n",
      "648:\tlearn: 91.7834496\ttotal: 1.79s\tremaining: 966ms\n",
      "649:\tlearn: 91.7141053\ttotal: 1.79s\tremaining: 963ms\n",
      "650:\tlearn: 91.6836345\ttotal: 1.79s\tremaining: 960ms\n",
      "651:\tlearn: 91.6407738\ttotal: 1.79s\tremaining: 958ms\n",
      "652:\tlearn: 91.5904191\ttotal: 1.8s\tremaining: 955ms\n",
      "653:\tlearn: 91.4710416\ttotal: 1.8s\tremaining: 952ms\n",
      "654:\tlearn: 91.3822388\ttotal: 1.8s\tremaining: 949ms\n",
      "655:\tlearn: 91.3318663\ttotal: 1.8s\tremaining: 946ms\n",
      "656:\tlearn: 91.2514926\ttotal: 1.81s\tremaining: 943ms\n",
      "657:\tlearn: 91.2219311\ttotal: 1.81s\tremaining: 941ms\n",
      "658:\tlearn: 91.1587074\ttotal: 1.81s\tremaining: 938ms\n",
      "659:\tlearn: 91.1355746\ttotal: 1.81s\tremaining: 935ms\n",
      "660:\tlearn: 91.0544418\ttotal: 1.82s\tremaining: 932ms\n",
      "661:\tlearn: 91.0236246\ttotal: 1.82s\tremaining: 929ms\n",
      "662:\tlearn: 90.9326397\ttotal: 1.82s\tremaining: 927ms\n",
      "663:\tlearn: 90.7787310\ttotal: 1.82s\tremaining: 924ms\n",
      "664:\tlearn: 90.6821747\ttotal: 1.83s\tremaining: 921ms\n",
      "665:\tlearn: 90.6089242\ttotal: 1.83s\tremaining: 918ms\n",
      "666:\tlearn: 90.5252936\ttotal: 1.83s\tremaining: 916ms\n",
      "667:\tlearn: 90.4260093\ttotal: 1.84s\tremaining: 913ms\n",
      "668:\tlearn: 90.3747850\ttotal: 1.84s\tremaining: 910ms\n",
      "669:\tlearn: 90.3192926\ttotal: 1.84s\tremaining: 907ms\n",
      "670:\tlearn: 90.2847577\ttotal: 1.84s\tremaining: 904ms\n",
      "671:\tlearn: 90.1995149\ttotal: 1.85s\tremaining: 902ms\n",
      "672:\tlearn: 90.1535032\ttotal: 1.85s\tremaining: 899ms\n",
      "673:\tlearn: 90.1098900\ttotal: 1.85s\tremaining: 896ms\n",
      "674:\tlearn: 90.0654772\ttotal: 1.85s\tremaining: 893ms\n",
      "675:\tlearn: 89.9713320\ttotal: 1.86s\tremaining: 890ms\n",
      "676:\tlearn: 89.9324186\ttotal: 1.86s\tremaining: 888ms\n",
      "677:\tlearn: 89.9115749\ttotal: 1.86s\tremaining: 885ms\n",
      "678:\tlearn: 89.9011954\ttotal: 1.87s\tremaining: 883ms\n",
      "679:\tlearn: 89.8395527\ttotal: 1.87s\tremaining: 880ms\n",
      "680:\tlearn: 89.7775044\ttotal: 1.87s\tremaining: 877ms\n",
      "681:\tlearn: 89.7189199\ttotal: 1.88s\tremaining: 875ms\n",
      "682:\tlearn: 89.6959568\ttotal: 1.88s\tremaining: 872ms\n",
      "683:\tlearn: 89.6388246\ttotal: 1.88s\tremaining: 869ms\n",
      "684:\tlearn: 89.5456278\ttotal: 1.88s\tremaining: 866ms\n",
      "685:\tlearn: 89.4972702\ttotal: 1.89s\tremaining: 863ms\n",
      "686:\tlearn: 89.4342881\ttotal: 1.89s\tremaining: 861ms\n",
      "687:\tlearn: 89.3363213\ttotal: 1.89s\tremaining: 858ms\n",
      "688:\tlearn: 89.2642081\ttotal: 1.89s\tremaining: 855ms\n",
      "689:\tlearn: 89.2203550\ttotal: 1.9s\tremaining: 852ms\n",
      "690:\tlearn: 89.1460843\ttotal: 1.9s\tremaining: 849ms\n",
      "691:\tlearn: 89.0766986\ttotal: 1.9s\tremaining: 847ms\n",
      "692:\tlearn: 88.9806007\ttotal: 1.9s\tremaining: 844ms\n",
      "693:\tlearn: 88.9029990\ttotal: 1.91s\tremaining: 841ms\n",
      "694:\tlearn: 88.8557113\ttotal: 1.91s\tremaining: 838ms\n",
      "695:\tlearn: 88.7803850\ttotal: 1.91s\tremaining: 835ms\n",
      "696:\tlearn: 88.6517526\ttotal: 1.91s\tremaining: 832ms\n",
      "697:\tlearn: 88.5437894\ttotal: 1.92s\tremaining: 830ms\n",
      "698:\tlearn: 88.4405226\ttotal: 1.92s\tremaining: 827ms\n",
      "699:\tlearn: 88.2928286\ttotal: 1.92s\tremaining: 824ms\n",
      "700:\tlearn: 88.1798129\ttotal: 1.93s\tremaining: 821ms\n",
      "701:\tlearn: 88.1530423\ttotal: 1.93s\tremaining: 819ms\n",
      "702:\tlearn: 88.1179602\ttotal: 1.93s\tremaining: 816ms\n",
      "703:\tlearn: 88.0298525\ttotal: 1.93s\tremaining: 813ms\n",
      "704:\tlearn: 87.9364241\ttotal: 1.94s\tremaining: 810ms\n",
      "705:\tlearn: 87.8867644\ttotal: 1.94s\tremaining: 807ms\n",
      "706:\tlearn: 87.8225423\ttotal: 1.94s\tremaining: 804ms\n",
      "707:\tlearn: 87.8031094\ttotal: 1.94s\tremaining: 801ms\n",
      "708:\tlearn: 87.7611429\ttotal: 1.95s\tremaining: 798ms\n",
      "709:\tlearn: 87.6719811\ttotal: 1.95s\tremaining: 796ms\n",
      "710:\tlearn: 87.5798876\ttotal: 1.95s\tremaining: 793ms\n",
      "711:\tlearn: 87.4995357\ttotal: 1.95s\tremaining: 790ms\n",
      "712:\tlearn: 87.4530785\ttotal: 1.95s\tremaining: 787ms\n",
      "713:\tlearn: 87.3869111\ttotal: 1.96s\tremaining: 784ms\n",
      "714:\tlearn: 87.2369320\ttotal: 1.96s\tremaining: 781ms\n",
      "715:\tlearn: 87.1931853\ttotal: 1.96s\tremaining: 778ms\n",
      "716:\tlearn: 87.1368389\ttotal: 1.96s\tremaining: 775ms\n",
      "717:\tlearn: 87.0764819\ttotal: 1.97s\tremaining: 772ms\n",
      "718:\tlearn: 86.9890619\ttotal: 1.97s\tremaining: 770ms\n",
      "719:\tlearn: 86.9641196\ttotal: 1.97s\tremaining: 767ms\n",
      "720:\tlearn: 86.9292438\ttotal: 1.97s\tremaining: 764ms\n",
      "721:\tlearn: 86.8552966\ttotal: 1.98s\tremaining: 761ms\n",
      "722:\tlearn: 86.8196122\ttotal: 1.98s\tremaining: 758ms\n",
      "723:\tlearn: 86.7870092\ttotal: 1.98s\tremaining: 755ms\n",
      "724:\tlearn: 86.6671885\ttotal: 1.98s\tremaining: 753ms\n",
      "725:\tlearn: 86.6521559\ttotal: 1.99s\tremaining: 750ms\n",
      "726:\tlearn: 86.5632512\ttotal: 1.99s\tremaining: 747ms\n",
      "727:\tlearn: 86.4406581\ttotal: 1.99s\tremaining: 744ms\n",
      "728:\tlearn: 86.3522620\ttotal: 1.99s\tremaining: 741ms\n",
      "729:\tlearn: 86.2697057\ttotal: 2s\tremaining: 738ms\n",
      "730:\tlearn: 86.2608198\ttotal: 2s\tremaining: 735ms\n",
      "731:\tlearn: 86.1954930\ttotal: 2s\tremaining: 733ms\n",
      "732:\tlearn: 86.1344984\ttotal: 2s\tremaining: 730ms\n",
      "733:\tlearn: 86.0893956\ttotal: 2s\tremaining: 727ms\n",
      "734:\tlearn: 86.0380819\ttotal: 2.01s\tremaining: 724ms\n",
      "735:\tlearn: 85.9481763\ttotal: 2.01s\tremaining: 721ms\n",
      "736:\tlearn: 85.9154160\ttotal: 2.01s\tremaining: 718ms\n",
      "737:\tlearn: 85.8442898\ttotal: 2.02s\tremaining: 715ms\n",
      "738:\tlearn: 85.7561576\ttotal: 2.02s\tremaining: 713ms\n",
      "739:\tlearn: 85.6506226\ttotal: 2.02s\tremaining: 710ms\n"
     ]
    },
    {
     "name": "stdout",
     "output_type": "stream",
     "text": [
      "740:\tlearn: 85.5651596\ttotal: 2.02s\tremaining: 707ms\n",
      "741:\tlearn: 85.4705071\ttotal: 2.03s\tremaining: 705ms\n",
      "742:\tlearn: 85.4127783\ttotal: 2.03s\tremaining: 702ms\n",
      "743:\tlearn: 85.3283735\ttotal: 2.03s\tremaining: 699ms\n",
      "744:\tlearn: 85.2831619\ttotal: 2.03s\tremaining: 696ms\n",
      "745:\tlearn: 85.2075064\ttotal: 2.04s\tremaining: 694ms\n",
      "746:\tlearn: 85.1652303\ttotal: 2.04s\tremaining: 691ms\n",
      "747:\tlearn: 85.0647687\ttotal: 2.04s\tremaining: 688ms\n",
      "748:\tlearn: 85.0050849\ttotal: 2.04s\tremaining: 685ms\n",
      "749:\tlearn: 84.9326189\ttotal: 2.05s\tremaining: 683ms\n",
      "750:\tlearn: 84.8387448\ttotal: 2.05s\tremaining: 680ms\n",
      "751:\tlearn: 84.8038154\ttotal: 2.05s\tremaining: 678ms\n",
      "752:\tlearn: 84.7478863\ttotal: 2.06s\tremaining: 675ms\n",
      "753:\tlearn: 84.7092252\ttotal: 2.06s\tremaining: 672ms\n",
      "754:\tlearn: 84.6379720\ttotal: 2.06s\tremaining: 669ms\n",
      "755:\tlearn: 84.6130560\ttotal: 2.06s\tremaining: 666ms\n",
      "756:\tlearn: 84.5871416\ttotal: 2.07s\tremaining: 664ms\n",
      "757:\tlearn: 84.5432873\ttotal: 2.07s\tremaining: 661ms\n",
      "758:\tlearn: 84.5066020\ttotal: 2.07s\tremaining: 658ms\n",
      "759:\tlearn: 84.4474510\ttotal: 2.07s\tremaining: 655ms\n",
      "760:\tlearn: 84.3743308\ttotal: 2.08s\tremaining: 652ms\n",
      "761:\tlearn: 84.3316228\ttotal: 2.08s\tremaining: 649ms\n",
      "762:\tlearn: 84.2949925\ttotal: 2.08s\tremaining: 647ms\n",
      "763:\tlearn: 84.1870801\ttotal: 2.08s\tremaining: 644ms\n",
      "764:\tlearn: 84.0745786\ttotal: 2.09s\tremaining: 641ms\n",
      "765:\tlearn: 83.9809462\ttotal: 2.09s\tremaining: 638ms\n",
      "766:\tlearn: 83.9533852\ttotal: 2.09s\tremaining: 635ms\n",
      "767:\tlearn: 83.8906350\ttotal: 2.09s\tremaining: 633ms\n",
      "768:\tlearn: 83.8517794\ttotal: 2.1s\tremaining: 630ms\n",
      "769:\tlearn: 83.7618307\ttotal: 2.1s\tremaining: 627ms\n",
      "770:\tlearn: 83.7498893\ttotal: 2.1s\tremaining: 624ms\n",
      "771:\tlearn: 83.6981430\ttotal: 2.1s\tremaining: 621ms\n",
      "772:\tlearn: 83.6315906\ttotal: 2.11s\tremaining: 619ms\n",
      "773:\tlearn: 83.5949118\ttotal: 2.11s\tremaining: 616ms\n",
      "774:\tlearn: 83.5194539\ttotal: 2.11s\tremaining: 613ms\n",
      "775:\tlearn: 83.4766177\ttotal: 2.11s\tremaining: 610ms\n",
      "776:\tlearn: 83.4435329\ttotal: 2.12s\tremaining: 607ms\n",
      "777:\tlearn: 83.3849223\ttotal: 2.12s\tremaining: 604ms\n",
      "778:\tlearn: 83.3683324\ttotal: 2.12s\tremaining: 602ms\n",
      "779:\tlearn: 83.1986219\ttotal: 2.12s\tremaining: 599ms\n",
      "780:\tlearn: 83.1353001\ttotal: 2.13s\tremaining: 596ms\n",
      "781:\tlearn: 83.0788397\ttotal: 2.13s\tremaining: 593ms\n",
      "782:\tlearn: 82.9677610\ttotal: 2.13s\tremaining: 591ms\n",
      "783:\tlearn: 82.9276160\ttotal: 2.13s\tremaining: 588ms\n",
      "784:\tlearn: 82.8831336\ttotal: 2.13s\tremaining: 585ms\n",
      "785:\tlearn: 82.8166458\ttotal: 2.14s\tremaining: 582ms\n",
      "786:\tlearn: 82.7010334\ttotal: 2.14s\tremaining: 579ms\n",
      "787:\tlearn: 82.6342387\ttotal: 2.14s\tremaining: 577ms\n",
      "788:\tlearn: 82.5856546\ttotal: 2.15s\tremaining: 574ms\n",
      "789:\tlearn: 82.5063814\ttotal: 2.15s\tremaining: 571ms\n",
      "790:\tlearn: 82.4257274\ttotal: 2.15s\tremaining: 568ms\n",
      "791:\tlearn: 82.3968574\ttotal: 2.15s\tremaining: 565ms\n",
      "792:\tlearn: 82.3929391\ttotal: 2.15s\tremaining: 563ms\n",
      "793:\tlearn: 82.3400839\ttotal: 2.16s\tremaining: 560ms\n",
      "794:\tlearn: 82.3026036\ttotal: 2.16s\tremaining: 557ms\n",
      "795:\tlearn: 82.1906803\ttotal: 2.16s\tremaining: 554ms\n",
      "796:\tlearn: 82.1231759\ttotal: 2.17s\tremaining: 552ms\n",
      "797:\tlearn: 82.0500678\ttotal: 2.17s\tremaining: 549ms\n",
      "798:\tlearn: 82.0052868\ttotal: 2.17s\tremaining: 546ms\n",
      "799:\tlearn: 81.9766166\ttotal: 2.17s\tremaining: 543ms\n",
      "800:\tlearn: 81.9364094\ttotal: 2.17s\tremaining: 540ms\n",
      "801:\tlearn: 81.8996839\ttotal: 2.18s\tremaining: 538ms\n",
      "802:\tlearn: 81.8310505\ttotal: 2.18s\tremaining: 535ms\n",
      "803:\tlearn: 81.8047457\ttotal: 2.18s\tremaining: 532ms\n",
      "804:\tlearn: 81.6865291\ttotal: 2.19s\tremaining: 530ms\n",
      "805:\tlearn: 81.6491965\ttotal: 2.19s\tremaining: 527ms\n",
      "806:\tlearn: 81.5862154\ttotal: 2.19s\tremaining: 524ms\n",
      "807:\tlearn: 81.5485268\ttotal: 2.19s\tremaining: 521ms\n",
      "808:\tlearn: 81.4704628\ttotal: 2.2s\tremaining: 519ms\n",
      "809:\tlearn: 81.3912070\ttotal: 2.2s\tremaining: 516ms\n",
      "810:\tlearn: 81.2343923\ttotal: 2.2s\tremaining: 513ms\n",
      "811:\tlearn: 81.1997575\ttotal: 2.2s\tremaining: 510ms\n",
      "812:\tlearn: 81.1072574\ttotal: 2.21s\tremaining: 508ms\n",
      "813:\tlearn: 81.0442112\ttotal: 2.21s\tremaining: 505ms\n",
      "814:\tlearn: 81.0138345\ttotal: 2.21s\tremaining: 502ms\n",
      "815:\tlearn: 80.9308055\ttotal: 2.21s\tremaining: 499ms\n",
      "816:\tlearn: 80.8656655\ttotal: 2.22s\tremaining: 497ms\n",
      "817:\tlearn: 80.8089235\ttotal: 2.22s\tremaining: 494ms\n",
      "818:\tlearn: 80.7499511\ttotal: 2.22s\tremaining: 491ms\n",
      "819:\tlearn: 80.7287849\ttotal: 2.22s\tremaining: 488ms\n",
      "820:\tlearn: 80.7129581\ttotal: 2.23s\tremaining: 486ms\n",
      "821:\tlearn: 80.6713330\ttotal: 2.23s\tremaining: 483ms\n",
      "822:\tlearn: 80.6132098\ttotal: 2.23s\tremaining: 480ms\n",
      "823:\tlearn: 80.5918236\ttotal: 2.23s\tremaining: 477ms\n",
      "824:\tlearn: 80.5492236\ttotal: 2.24s\tremaining: 474ms\n",
      "825:\tlearn: 80.5349604\ttotal: 2.24s\tremaining: 472ms\n",
      "826:\tlearn: 80.4766505\ttotal: 2.24s\tremaining: 469ms\n",
      "827:\tlearn: 80.4201388\ttotal: 2.24s\tremaining: 466ms\n",
      "828:\tlearn: 80.3206093\ttotal: 2.25s\tremaining: 463ms\n",
      "829:\tlearn: 80.2340688\ttotal: 2.25s\tremaining: 461ms\n",
      "830:\tlearn: 80.2176787\ttotal: 2.25s\tremaining: 458ms\n",
      "831:\tlearn: 80.1664532\ttotal: 2.25s\tremaining: 455ms\n",
      "832:\tlearn: 80.1189898\ttotal: 2.26s\tremaining: 452ms\n",
      "833:\tlearn: 80.0910395\ttotal: 2.26s\tremaining: 450ms\n",
      "834:\tlearn: 80.0679908\ttotal: 2.26s\tremaining: 447ms\n",
      "835:\tlearn: 79.9839428\ttotal: 2.26s\tremaining: 444ms\n",
      "836:\tlearn: 79.9344344\ttotal: 2.27s\tremaining: 441ms\n",
      "837:\tlearn: 79.9160648\ttotal: 2.27s\tremaining: 439ms\n",
      "838:\tlearn: 79.8615542\ttotal: 2.27s\tremaining: 436ms\n",
      "839:\tlearn: 79.8215198\ttotal: 2.27s\tremaining: 433ms\n",
      "840:\tlearn: 79.7378850\ttotal: 2.28s\tremaining: 430ms\n",
      "841:\tlearn: 79.6383115\ttotal: 2.28s\tremaining: 428ms\n",
      "842:\tlearn: 79.5922333\ttotal: 2.28s\tremaining: 425ms\n",
      "843:\tlearn: 79.5023126\ttotal: 2.28s\tremaining: 422ms\n",
      "844:\tlearn: 79.4770815\ttotal: 2.29s\tremaining: 419ms\n",
      "845:\tlearn: 79.4176497\ttotal: 2.29s\tremaining: 417ms\n",
      "846:\tlearn: 79.3690660\ttotal: 2.29s\tremaining: 414ms\n",
      "847:\tlearn: 79.2370967\ttotal: 2.29s\tremaining: 411ms\n",
      "848:\tlearn: 79.1680559\ttotal: 2.3s\tremaining: 408ms\n",
      "849:\tlearn: 79.1083446\ttotal: 2.3s\tremaining: 406ms\n",
      "850:\tlearn: 79.0241297\ttotal: 2.3s\tremaining: 403ms\n",
      "851:\tlearn: 78.9394694\ttotal: 2.3s\tremaining: 400ms\n",
      "852:\tlearn: 78.8904766\ttotal: 2.31s\tremaining: 397ms\n",
      "853:\tlearn: 78.8118726\ttotal: 2.31s\tremaining: 395ms\n",
      "854:\tlearn: 78.7122449\ttotal: 2.31s\tremaining: 392ms\n",
      "855:\tlearn: 78.6128843\ttotal: 2.31s\tremaining: 389ms\n",
      "856:\tlearn: 78.5951060\ttotal: 2.31s\tremaining: 386ms\n",
      "857:\tlearn: 78.5298599\ttotal: 2.32s\tremaining: 384ms\n",
      "858:\tlearn: 78.4331594\ttotal: 2.32s\tremaining: 381ms\n",
      "859:\tlearn: 78.3047290\ttotal: 2.32s\tremaining: 378ms\n",
      "860:\tlearn: 78.2631560\ttotal: 2.33s\tremaining: 375ms\n",
      "861:\tlearn: 78.2073243\ttotal: 2.33s\tremaining: 373ms\n",
      "862:\tlearn: 78.2037910\ttotal: 2.33s\tremaining: 370ms\n",
      "863:\tlearn: 78.1609557\ttotal: 2.33s\tremaining: 367ms\n",
      "864:\tlearn: 78.1513351\ttotal: 2.33s\tremaining: 365ms\n",
      "865:\tlearn: 78.0965964\ttotal: 2.34s\tremaining: 362ms\n",
      "866:\tlearn: 78.0464578\ttotal: 2.34s\tremaining: 359ms\n",
      "867:\tlearn: 77.9868833\ttotal: 2.34s\tremaining: 356ms\n",
      "868:\tlearn: 77.9476897\ttotal: 2.35s\tremaining: 354ms\n",
      "869:\tlearn: 77.9191202\ttotal: 2.35s\tremaining: 351ms\n",
      "870:\tlearn: 77.8657265\ttotal: 2.35s\tremaining: 348ms\n",
      "871:\tlearn: 77.8363524\ttotal: 2.35s\tremaining: 345ms\n",
      "872:\tlearn: 77.8013242\ttotal: 2.36s\tremaining: 343ms\n",
      "873:\tlearn: 77.7494797\ttotal: 2.36s\tremaining: 340ms\n",
      "874:\tlearn: 77.7235929\ttotal: 2.36s\tremaining: 337ms\n",
      "875:\tlearn: 77.7025363\ttotal: 2.36s\tremaining: 335ms\n",
      "876:\tlearn: 77.6433366\ttotal: 2.37s\tremaining: 332ms\n",
      "877:\tlearn: 77.6167218\ttotal: 2.37s\tremaining: 329ms\n",
      "878:\tlearn: 77.5698856\ttotal: 2.37s\tremaining: 326ms\n",
      "879:\tlearn: 77.5332421\ttotal: 2.37s\tremaining: 324ms\n",
      "880:\tlearn: 77.4957880\ttotal: 2.38s\tremaining: 321ms\n",
      "881:\tlearn: 77.4554813\ttotal: 2.38s\tremaining: 318ms\n",
      "882:\tlearn: 77.3901069\ttotal: 2.38s\tremaining: 316ms\n",
      "883:\tlearn: 77.3423349\ttotal: 2.38s\tremaining: 313ms\n",
      "884:\tlearn: 77.2829342\ttotal: 2.39s\tremaining: 310ms\n",
      "885:\tlearn: 77.2495070\ttotal: 2.39s\tremaining: 307ms\n",
      "886:\tlearn: 77.1941626\ttotal: 2.39s\tremaining: 305ms\n",
      "887:\tlearn: 77.1640250\ttotal: 2.39s\tremaining: 302ms\n",
      "888:\tlearn: 77.1208744\ttotal: 2.4s\tremaining: 299ms\n",
      "889:\tlearn: 77.1068890\ttotal: 2.4s\tremaining: 296ms\n",
      "890:\tlearn: 77.0460442\ttotal: 2.4s\tremaining: 294ms\n",
      "891:\tlearn: 77.0074206\ttotal: 2.4s\tremaining: 291ms\n",
      "892:\tlearn: 76.9748426\ttotal: 2.4s\tremaining: 288ms\n",
      "893:\tlearn: 76.9443785\ttotal: 2.41s\tremaining: 285ms\n",
      "894:\tlearn: 76.9094301\ttotal: 2.41s\tremaining: 283ms\n",
      "895:\tlearn: 76.9057607\ttotal: 2.41s\tremaining: 280ms\n",
      "896:\tlearn: 76.9004382\ttotal: 2.41s\tremaining: 277ms\n",
      "897:\tlearn: 76.8626139\ttotal: 2.42s\tremaining: 275ms\n",
      "898:\tlearn: 76.8167234\ttotal: 2.42s\tremaining: 272ms\n",
      "899:\tlearn: 76.7703500\ttotal: 2.42s\tremaining: 269ms\n",
      "900:\tlearn: 76.7598063\ttotal: 2.42s\tremaining: 266ms\n",
      "901:\tlearn: 76.7224743\ttotal: 2.43s\tremaining: 264ms\n",
      "902:\tlearn: 76.6684180\ttotal: 2.43s\tremaining: 261ms\n",
      "903:\tlearn: 76.6559645\ttotal: 2.43s\tremaining: 258ms\n",
      "904:\tlearn: 76.6202620\ttotal: 2.43s\tremaining: 255ms\n",
      "905:\tlearn: 76.5764604\ttotal: 2.44s\tremaining: 253ms\n",
      "906:\tlearn: 76.5499611\ttotal: 2.44s\tremaining: 250ms\n",
      "907:\tlearn: 76.5412283\ttotal: 2.44s\tremaining: 247ms\n",
      "908:\tlearn: 76.4987616\ttotal: 2.44s\tremaining: 245ms\n",
      "909:\tlearn: 76.4645030\ttotal: 2.44s\tremaining: 242ms\n",
      "910:\tlearn: 76.4386622\ttotal: 2.45s\tremaining: 239ms\n",
      "911:\tlearn: 76.3960219\ttotal: 2.45s\tremaining: 236ms\n",
      "912:\tlearn: 76.3719061\ttotal: 2.45s\tremaining: 234ms\n",
      "913:\tlearn: 76.3530184\ttotal: 2.45s\tremaining: 231ms\n",
      "914:\tlearn: 76.3412505\ttotal: 2.46s\tremaining: 228ms\n",
      "915:\tlearn: 76.2506415\ttotal: 2.46s\tremaining: 226ms\n",
      "916:\tlearn: 76.2100127\ttotal: 2.46s\tremaining: 223ms\n",
      "917:\tlearn: 76.1524494\ttotal: 2.46s\tremaining: 220ms\n",
      "918:\tlearn: 76.1077187\ttotal: 2.47s\tremaining: 217ms\n",
      "919:\tlearn: 76.0929789\ttotal: 2.47s\tremaining: 215ms\n",
      "920:\tlearn: 76.0721519\ttotal: 2.47s\tremaining: 212ms\n",
      "921:\tlearn: 75.9924163\ttotal: 2.47s\tremaining: 209ms\n",
      "922:\tlearn: 75.9456086\ttotal: 2.48s\tremaining: 207ms\n",
      "923:\tlearn: 75.8331153\ttotal: 2.48s\tremaining: 204ms\n",
      "924:\tlearn: 75.8004465\ttotal: 2.48s\tremaining: 201ms\n",
      "925:\tlearn: 75.7267596\ttotal: 2.48s\tremaining: 198ms\n",
      "926:\tlearn: 75.7088045\ttotal: 2.49s\tremaining: 196ms\n"
     ]
    },
    {
     "name": "stdout",
     "output_type": "stream",
     "text": [
      "927:\tlearn: 75.6833728\ttotal: 2.49s\tremaining: 193ms\n",
      "928:\tlearn: 75.6412348\ttotal: 2.49s\tremaining: 190ms\n",
      "929:\tlearn: 75.5463986\ttotal: 2.49s\tremaining: 188ms\n",
      "930:\tlearn: 75.5218960\ttotal: 2.5s\tremaining: 185ms\n",
      "931:\tlearn: 75.5091380\ttotal: 2.5s\tremaining: 182ms\n",
      "932:\tlearn: 75.3719962\ttotal: 2.5s\tremaining: 180ms\n",
      "933:\tlearn: 75.3431605\ttotal: 2.5s\tremaining: 177ms\n",
      "934:\tlearn: 75.2526524\ttotal: 2.51s\tremaining: 174ms\n",
      "935:\tlearn: 75.1987766\ttotal: 2.51s\tremaining: 172ms\n",
      "936:\tlearn: 75.1726102\ttotal: 2.51s\tremaining: 169ms\n",
      "937:\tlearn: 75.1173145\ttotal: 2.51s\tremaining: 166ms\n",
      "938:\tlearn: 75.0839679\ttotal: 2.52s\tremaining: 164ms\n",
      "939:\tlearn: 75.0602872\ttotal: 2.52s\tremaining: 161ms\n",
      "940:\tlearn: 75.0311656\ttotal: 2.52s\tremaining: 158ms\n",
      "941:\tlearn: 75.0052879\ttotal: 2.52s\tremaining: 155ms\n",
      "942:\tlearn: 74.9672613\ttotal: 2.53s\tremaining: 153ms\n",
      "943:\tlearn: 74.9498648\ttotal: 2.53s\tremaining: 150ms\n",
      "944:\tlearn: 74.9437311\ttotal: 2.53s\tremaining: 147ms\n",
      "945:\tlearn: 74.9128694\ttotal: 2.53s\tremaining: 145ms\n",
      "946:\tlearn: 74.8833929\ttotal: 2.54s\tremaining: 142ms\n",
      "947:\tlearn: 74.8111669\ttotal: 2.54s\tremaining: 139ms\n",
      "948:\tlearn: 74.7590906\ttotal: 2.54s\tremaining: 137ms\n",
      "949:\tlearn: 74.7285198\ttotal: 2.54s\tremaining: 134ms\n",
      "950:\tlearn: 74.6891488\ttotal: 2.55s\tremaining: 131ms\n",
      "951:\tlearn: 74.6513593\ttotal: 2.55s\tremaining: 129ms\n",
      "952:\tlearn: 74.6412260\ttotal: 2.55s\tremaining: 126ms\n",
      "953:\tlearn: 74.6073548\ttotal: 2.56s\tremaining: 123ms\n",
      "954:\tlearn: 74.5780174\ttotal: 2.56s\tremaining: 121ms\n",
      "955:\tlearn: 74.5545094\ttotal: 2.56s\tremaining: 118ms\n",
      "956:\tlearn: 74.5348132\ttotal: 2.56s\tremaining: 115ms\n",
      "957:\tlearn: 74.4467593\ttotal: 2.56s\tremaining: 112ms\n",
      "958:\tlearn: 74.3875639\ttotal: 2.57s\tremaining: 110ms\n",
      "959:\tlearn: 74.3397228\ttotal: 2.57s\tremaining: 107ms\n",
      "960:\tlearn: 74.3147280\ttotal: 2.57s\tremaining: 104ms\n",
      "961:\tlearn: 74.2178276\ttotal: 2.58s\tremaining: 102ms\n",
      "962:\tlearn: 74.1642535\ttotal: 2.58s\tremaining: 99ms\n",
      "963:\tlearn: 74.1199115\ttotal: 2.58s\tremaining: 96.3ms\n",
      "964:\tlearn: 74.0930868\ttotal: 2.58s\tremaining: 93.7ms\n",
      "965:\tlearn: 74.0362364\ttotal: 2.58s\tremaining: 91ms\n",
      "966:\tlearn: 73.9747524\ttotal: 2.59s\tremaining: 88.3ms\n",
      "967:\tlearn: 73.9416107\ttotal: 2.59s\tremaining: 85.6ms\n",
      "968:\tlearn: 73.8724138\ttotal: 2.59s\tremaining: 82.9ms\n",
      "969:\tlearn: 73.8330405\ttotal: 2.59s\tremaining: 80.3ms\n",
      "970:\tlearn: 73.7773767\ttotal: 2.6s\tremaining: 77.6ms\n",
      "971:\tlearn: 73.7538218\ttotal: 2.6s\tremaining: 74.9ms\n",
      "972:\tlearn: 73.7335325\ttotal: 2.6s\tremaining: 72.2ms\n",
      "973:\tlearn: 73.6875574\ttotal: 2.6s\tremaining: 69.5ms\n",
      "974:\tlearn: 73.6654728\ttotal: 2.61s\tremaining: 66.9ms\n",
      "975:\tlearn: 73.6160031\ttotal: 2.61s\tremaining: 64.2ms\n",
      "976:\tlearn: 73.5418752\ttotal: 2.61s\tremaining: 61.5ms\n",
      "977:\tlearn: 73.4406312\ttotal: 2.62s\tremaining: 58.8ms\n",
      "978:\tlearn: 73.4106076\ttotal: 2.62s\tremaining: 56.2ms\n",
      "979:\tlearn: 73.3527566\ttotal: 2.62s\tremaining: 53.5ms\n",
      "980:\tlearn: 73.3303041\ttotal: 2.62s\tremaining: 50.8ms\n",
      "981:\tlearn: 73.3227147\ttotal: 2.63s\tremaining: 48.1ms\n",
      "982:\tlearn: 73.2412659\ttotal: 2.63s\tremaining: 45.5ms\n",
      "983:\tlearn: 73.2151810\ttotal: 2.63s\tremaining: 42.8ms\n",
      "984:\tlearn: 73.1527952\ttotal: 2.63s\tremaining: 40.1ms\n",
      "985:\tlearn: 73.1440867\ttotal: 2.63s\tremaining: 37.4ms\n",
      "986:\tlearn: 73.1210632\ttotal: 2.64s\tremaining: 34.8ms\n",
      "987:\tlearn: 73.0769425\ttotal: 2.64s\tremaining: 32.1ms\n",
      "988:\tlearn: 73.0095940\ttotal: 2.64s\tremaining: 29.4ms\n",
      "989:\tlearn: 73.0075252\ttotal: 2.65s\tremaining: 26.7ms\n",
      "990:\tlearn: 72.9748220\ttotal: 2.65s\tremaining: 24.1ms\n",
      "991:\tlearn: 72.8894658\ttotal: 2.65s\tremaining: 21.4ms\n",
      "992:\tlearn: 72.8402278\ttotal: 2.65s\tremaining: 18.7ms\n",
      "993:\tlearn: 72.8054355\ttotal: 2.66s\tremaining: 16ms\n",
      "994:\tlearn: 72.7817295\ttotal: 2.66s\tremaining: 13.4ms\n",
      "995:\tlearn: 72.7073643\ttotal: 2.66s\tremaining: 10.7ms\n",
      "996:\tlearn: 72.6459615\ttotal: 2.66s\tremaining: 8.02ms\n",
      "997:\tlearn: 72.6137500\ttotal: 2.67s\tremaining: 5.34ms\n",
      "998:\tlearn: 72.5868393\ttotal: 2.67s\tremaining: 2.67ms\n",
      "999:\tlearn: 72.5337271\ttotal: 2.67s\tremaining: 0us\n",
      "2.725334459100249\n"
     ]
    }
   ],
   "source": [
    "cat_rg1 = cb.CatBoostRegressor(loss_function='RMSE')\n",
    "cat_rg1.fit(x_train,y_train)\n",
    "pred=cat_rg1.predict(x_test)\n",
    "rmsle=np.sqrt(mean_squared_log_error(y_test,pred))\n",
    "print(rmsle*100)"
   ]
  },
  {
   "cell_type": "code",
   "execution_count": 35,
   "metadata": {},
   "outputs": [],
   "source": [
    "from sklearn.preprocessing import MinMaxScaler,StandardScaler"
   ]
  },
  {
   "cell_type": "code",
   "execution_count": 38,
   "metadata": {},
   "outputs": [],
   "source": [
    "scaler= StandardScaler()\n",
    "scaled_data = scaler.fit_transform(x_train)\n",
    "x_train = pd.DataFrame(scaled_data)"
   ]
  },
  {
   "cell_type": "code",
   "execution_count": 37,
   "metadata": {},
   "outputs": [],
   "source": [
    "scaler= StandardScaler()\n",
    "scaled_data = scaler.fit_transform(x_test)\n",
    "x_test = pd.DataFrame(scaled_data)"
   ]
  },
  {
   "cell_type": "code",
   "execution_count": null,
   "metadata": {},
   "outputs": [],
   "source": []
  },
  {
   "cell_type": "code",
   "execution_count": null,
   "metadata": {},
   "outputs": [],
   "source": []
  },
  {
   "cell_type": "code",
   "execution_count": null,
   "metadata": {},
   "outputs": [],
   "source": []
  },
  {
   "cell_type": "code",
   "execution_count": null,
   "metadata": {},
   "outputs": [],
   "source": []
  },
  {
   "cell_type": "code",
   "execution_count": null,
   "metadata": {},
   "outputs": [],
   "source": []
  },
  {
   "cell_type": "code",
   "execution_count": null,
   "metadata": {},
   "outputs": [],
   "source": []
  },
  {
   "cell_type": "code",
   "execution_count": null,
   "metadata": {},
   "outputs": [],
   "source": []
  },
  {
   "cell_type": "code",
   "execution_count": null,
   "metadata": {},
   "outputs": [],
   "source": []
  },
  {
   "cell_type": "code",
   "execution_count": null,
   "metadata": {},
   "outputs": [],
   "source": []
  },
  {
   "cell_type": "code",
   "execution_count": null,
   "metadata": {},
   "outputs": [],
   "source": []
  },
  {
   "cell_type": "code",
   "execution_count": null,
   "metadata": {},
   "outputs": [],
   "source": []
  },
  {
   "cell_type": "code",
   "execution_count": null,
   "metadata": {},
   "outputs": [],
   "source": []
  },
  {
   "cell_type": "code",
   "execution_count": null,
   "metadata": {},
   "outputs": [],
   "source": []
  },
  {
   "cell_type": "code",
   "execution_count": null,
   "metadata": {},
   "outputs": [],
   "source": []
  },
  {
   "cell_type": "code",
   "execution_count": null,
   "metadata": {},
   "outputs": [],
   "source": []
  },
  {
   "cell_type": "code",
   "execution_count": null,
   "metadata": {},
   "outputs": [],
   "source": []
  },
  {
   "cell_type": "code",
   "execution_count": null,
   "metadata": {},
   "outputs": [],
   "source": []
  },
  {
   "cell_type": "code",
   "execution_count": null,
   "metadata": {},
   "outputs": [],
   "source": []
  },
  {
   "cell_type": "code",
   "execution_count": null,
   "metadata": {},
   "outputs": [],
   "source": []
  },
  {
   "cell_type": "code",
   "execution_count": null,
   "metadata": {},
   "outputs": [],
   "source": []
  },
  {
   "cell_type": "code",
   "execution_count": null,
   "metadata": {},
   "outputs": [],
   "source": []
  },
  {
   "cell_type": "code",
   "execution_count": null,
   "metadata": {},
   "outputs": [],
   "source": []
  },
  {
   "cell_type": "code",
   "execution_count": null,
   "metadata": {},
   "outputs": [],
   "source": []
  },
  {
   "cell_type": "code",
   "execution_count": null,
   "metadata": {},
   "outputs": [],
   "source": []
  },
  {
   "cell_type": "code",
   "execution_count": null,
   "metadata": {},
   "outputs": [],
   "source": []
  },
  {
   "cell_type": "code",
   "execution_count": null,
   "metadata": {},
   "outputs": [],
   "source": []
  },
  {
   "cell_type": "code",
   "execution_count": null,
   "metadata": {},
   "outputs": [],
   "source": []
  },
  {
   "cell_type": "code",
   "execution_count": null,
   "metadata": {},
   "outputs": [],
   "source": []
  },
  {
   "cell_type": "code",
   "execution_count": null,
   "metadata": {},
   "outputs": [],
   "source": []
  },
  {
   "cell_type": "code",
   "execution_count": null,
   "metadata": {},
   "outputs": [],
   "source": []
  },
  {
   "cell_type": "code",
   "execution_count": null,
   "metadata": {},
   "outputs": [],
   "source": []
  },
  {
   "cell_type": "code",
   "execution_count": null,
   "metadata": {},
   "outputs": [],
   "source": []
  },
  {
   "cell_type": "code",
   "execution_count": null,
   "metadata": {},
   "outputs": [],
   "source": []
  },
  {
   "cell_type": "code",
   "execution_count": null,
   "metadata": {},
   "outputs": [],
   "source": []
  },
  {
   "cell_type": "code",
   "execution_count": null,
   "metadata": {},
   "outputs": [],
   "source": []
  },
  {
   "cell_type": "code",
   "execution_count": null,
   "metadata": {},
   "outputs": [],
   "source": []
  },
  {
   "cell_type": "code",
   "execution_count": null,
   "metadata": {},
   "outputs": [],
   "source": []
  },
  {
   "cell_type": "code",
   "execution_count": null,
   "metadata": {},
   "outputs": [],
   "source": []
  },
  {
   "cell_type": "code",
   "execution_count": null,
   "metadata": {},
   "outputs": [],
   "source": []
  },
  {
   "cell_type": "code",
   "execution_count": null,
   "metadata": {},
   "outputs": [],
   "source": []
  },
  {
   "cell_type": "code",
   "execution_count": null,
   "metadata": {},
   "outputs": [],
   "source": []
  },
  {
   "cell_type": "code",
   "execution_count": null,
   "metadata": {},
   "outputs": [],
   "source": []
  },
  {
   "cell_type": "code",
   "execution_count": null,
   "metadata": {},
   "outputs": [],
   "source": []
  },
  {
   "cell_type": "code",
   "execution_count": null,
   "metadata": {},
   "outputs": [],
   "source": []
  },
  {
   "cell_type": "code",
   "execution_count": null,
   "metadata": {},
   "outputs": [],
   "source": []
  },
  {
   "cell_type": "code",
   "execution_count": null,
   "metadata": {},
   "outputs": [],
   "source": []
  },
  {
   "cell_type": "code",
   "execution_count": null,
   "metadata": {},
   "outputs": [],
   "source": []
  },
  {
   "cell_type": "code",
   "execution_count": null,
   "metadata": {},
   "outputs": [],
   "source": []
  },
  {
   "cell_type": "code",
   "execution_count": null,
   "metadata": {},
   "outputs": [],
   "source": []
  },
  {
   "cell_type": "code",
   "execution_count": null,
   "metadata": {},
   "outputs": [],
   "source": []
  },
  {
   "cell_type": "code",
   "execution_count": null,
   "metadata": {},
   "outputs": [],
   "source": []
  },
  {
   "cell_type": "code",
   "execution_count": null,
   "metadata": {},
   "outputs": [],
   "source": []
  },
  {
   "cell_type": "code",
   "execution_count": null,
   "metadata": {},
   "outputs": [],
   "source": []
  },
  {
   "cell_type": "code",
   "execution_count": null,
   "metadata": {},
   "outputs": [],
   "source": []
  },
  {
   "cell_type": "code",
   "execution_count": null,
   "metadata": {},
   "outputs": [],
   "source": []
  },
  {
   "cell_type": "code",
   "execution_count": null,
   "metadata": {},
   "outputs": [],
   "source": []
  },
  {
   "cell_type": "code",
   "execution_count": null,
   "metadata": {},
   "outputs": [],
   "source": []
  },
  {
   "cell_type": "code",
   "execution_count": null,
   "metadata": {},
   "outputs": [],
   "source": []
  },
  {
   "cell_type": "code",
   "execution_count": null,
   "metadata": {},
   "outputs": [],
   "source": []
  },
  {
   "cell_type": "code",
   "execution_count": null,
   "metadata": {},
   "outputs": [],
   "source": []
  },
  {
   "cell_type": "code",
   "execution_count": null,
   "metadata": {},
   "outputs": [],
   "source": []
  },
  {
   "cell_type": "code",
   "execution_count": null,
   "metadata": {},
   "outputs": [],
   "source": []
  },
  {
   "cell_type": "code",
   "execution_count": null,
   "metadata": {},
   "outputs": [],
   "source": []
  },
  {
   "cell_type": "code",
   "execution_count": null,
   "metadata": {},
   "outputs": [],
   "source": []
  },
  {
   "cell_type": "code",
   "execution_count": null,
   "metadata": {},
   "outputs": [],
   "source": []
  },
  {
   "cell_type": "code",
   "execution_count": null,
   "metadata": {},
   "outputs": [],
   "source": []
  }
 ],
 "metadata": {
  "kernelspec": {
   "display_name": "Python 3",
   "language": "python",
   "name": "python3"
  },
  "language_info": {
   "codemirror_mode": {
    "name": "ipython",
    "version": 3
   },
   "file_extension": ".py",
   "mimetype": "text/x-python",
   "name": "python",
   "nbconvert_exporter": "python",
   "pygments_lexer": "ipython3",
   "version": "3.6.5"
  }
 },
 "nbformat": 4,
 "nbformat_minor": 2
}
